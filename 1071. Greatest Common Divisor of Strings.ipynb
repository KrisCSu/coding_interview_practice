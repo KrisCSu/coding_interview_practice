{
 "cells": [
  {
   "cell_type": "markdown",
   "source": [
    "# 1071. Greatest Common Divisor of Strings\n",
    "\n",
    "For two strings `s` and `t`, we say \"`t` divides `s`\" if and only if `s = t + ... + t` (i.e., `t` is concatenated with itself one or more times).\n",
    "\n",
    "Given two strings `str1` and `str2`, return the largest string `x` such that `x` divides both `str1` and `str2`.\n",
    "\n",
    "## Example 1:\n",
    "\n",
    "```\n",
    "Input: str1 = \"ABCABC\", str2 = \"ABC\"\n",
    "Output: \"ABC\"\n",
    "```\n",
    "\n",
    "## Example 2:\n",
    "\n",
    "```\n",
    "Input: str1 = \"ABABAB\", str2 = \"ABAB\"\n",
    "Output: \"AB\"\n",
    "```"
   ],
   "metadata": {
    "collapsed": false
   }
  },
  {
   "cell_type": "code",
   "execution_count": 1,
   "outputs": [],
   "source": [
    "import math\n",
    "\n",
    "\n",
    "def gcdOfStrings(str1: str, str2: str) -> str:\n",
    "    if str1 + str2 != str2 + str1:\n",
    "        return \"\"\n",
    "    else:\n",
    "        return str1[:math.gcd(len(str1), len(str2))]"
   ],
   "metadata": {
    "collapsed": false,
    "ExecuteTime": {
     "end_time": "2023-06-28T02:21:40.415684Z",
     "start_time": "2023-06-28T02:21:40.412259Z"
    }
   }
  },
  {
   "cell_type": "code",
   "execution_count": 2,
   "outputs": [
    {
     "data": {
      "text/plain": "'ABC'"
     },
     "execution_count": 2,
     "metadata": {},
     "output_type": "execute_result"
    }
   ],
   "source": [
    "str1 = \"ABCABC\"\n",
    "str2 = \"ABC\"\n",
    "gcdOfStrings(str1, str2)"
   ],
   "metadata": {
    "collapsed": false,
    "ExecuteTime": {
     "end_time": "2023-06-28T02:21:40.426771Z",
     "start_time": "2023-06-28T02:21:40.423844Z"
    }
   }
  },
  {
   "cell_type": "markdown",
   "source": [
    "~~Weirdest question ever.~~"
   ],
   "metadata": {
    "collapsed": false
   }
  }
 ],
 "metadata": {
  "kernelspec": {
   "display_name": "Python 3",
   "language": "python",
   "name": "python3"
  },
  "language_info": {
   "codemirror_mode": {
    "name": "ipython",
    "version": 2
   },
   "file_extension": ".py",
   "mimetype": "text/x-python",
   "name": "python",
   "nbconvert_exporter": "python",
   "pygments_lexer": "ipython2",
   "version": "2.7.6"
  }
 },
 "nbformat": 4,
 "nbformat_minor": 0
}
