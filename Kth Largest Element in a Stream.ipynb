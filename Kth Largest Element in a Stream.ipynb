{
 "cells": [
  {
   "cell_type": "markdown",
   "metadata": {},
   "source": [
    "## Problem"
   ]
  },
  {
   "cell_type": "markdown",
   "metadata": {},
   "source": [
    "Design a class to find the kth largest element in a stream. Note that it is the kth largest element in the sorted order, not the kth distinct element.\n",
    "\n",
    "Implement KthLargest class:\n",
    "\n",
    "- KthLargest(int k, int[] nums) Initializes the object with the integer k and the stream of integers nums.\n",
    "- int add(int val) Returns the element representing the kth largest element in the stream."
   ]
  },
  {
   "cell_type": "markdown",
   "metadata": {},
   "source": [
    "## Example\n",
    "\n",
    "**Input**\n",
    "```\n",
    "[\"KthLargest\", \"add\", \"add\", \"add\", \"add\", \"add\"]\n",
    "[[3, [4, 5, 8, 2]], [3], [5], [10], [9], [4]]\n",
    "```\n",
    "**Output**\n",
    "```\n",
    "[null, 4, 5, 5, 8, 8]\n",
    "```\n",
    " \n",
    "**Explanation**\n",
    "```\n",
    "KthLargest kthLargest = new KthLargest(3, [4, 5, 8, 2]);\n",
    "kthLargest.add(3);   // return 4\n",
    "kthLargest.add(5);   // return 5\n",
    "kthLargest.add(10);  // return 5\n",
    "kthLargest.add(9);   // return 8\n",
    "kthLargest.add(4);   // return 8\n",
    "```"
   ]
  },
  {
   "cell_type": "markdown",
   "metadata": {},
   "source": [
    "## Solution"
   ]
  },
  {
   "cell_type": "code",
   "execution_count": 1,
   "metadata": {},
   "outputs": [],
   "source": [
    "import heapq\n",
    "class KthLargest:\n",
    "\n",
    "    def __init__(self, k, nums):\n",
    "        self.h = nums\n",
    "        self.k = k\n",
    "        \n",
    "        heapq.heapify(self.h)\n",
    "        \n",
    "        while len(self.h) > self.k:\n",
    "            heapq.heappop(self.h)\n",
    "\n",
    "    def add(self, val):\n",
    "        if len(self.h) < self.k:\n",
    "            heapq.heappush(self.h, val)\n",
    "        else:\n",
    "            heapq.heappushpop(self.h, val)\n",
    "            \n",
    "        return self.h[0]\n",
    "\n",
    "\n",
    "# Your KthLargest object will be instantiated and called as such:\n",
    "# obj = KthLargest(k, nums)\n",
    "# param_1 = obj.add(val)"
   ]
  },
  {
   "cell_type": "markdown",
   "metadata": {},
   "source": [
    "## Test"
   ]
  },
  {
   "cell_type": "code",
   "execution_count": 2,
   "metadata": {},
   "outputs": [],
   "source": [
    "nums = [4, 5, 8, 2]\n",
    "test = KthLargest(3, nums)"
   ]
  },
  {
   "cell_type": "code",
   "execution_count": 3,
   "metadata": {},
   "outputs": [
    {
     "name": "stdout",
     "output_type": "stream",
     "text": [
      "ALL TEST CASES PASSED\n"
     ]
    }
   ],
   "source": [
    "assert test.add(3) == 4, 'should be 4'\n",
    "assert test.add(5) == 5, 'should be 5'\n",
    "assert test.add(10) == 5, 'should be 5'\n",
    "assert test.add(9)  == 8, 'should be 8'\n",
    "assert test.add(4) == 8, 'should be 8'\n",
    "print('ALL TEST CASES PASSED')"
   ]
  }
 ],
 "metadata": {
  "kernelspec": {
   "display_name": "Python 3",
   "language": "python",
   "name": "python3"
  },
  "language_info": {
   "codemirror_mode": {
    "name": "ipython",
    "version": 3
   },
   "file_extension": ".py",
   "mimetype": "text/x-python",
   "name": "python",
   "nbconvert_exporter": "python",
   "pygments_lexer": "ipython3",
   "version": "3.8.0"
  }
 },
 "nbformat": 4,
 "nbformat_minor": 4
}
