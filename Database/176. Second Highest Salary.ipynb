{
 "cells": [
  {
   "cell_type": "markdown",
   "id": "dde38ca1",
   "metadata": {},
   "source": [
    "## 176. Second Highest Salary\n",
    "\n",
    "| Column Name | Type |\n",
    "| :---------- |----: |\n",
    "| id          | int  |\n",
    "| salary      | int  |\n",
    "\n",
    "id is the primary key column for this table.  \n",
    "Each row of this table contains information about the salary of an employee.  \n",
    " \n",
    "\n",
    "Write an SQL query to report the second highest salary from the Employee table. If there is no second highest salary, the query should report `null`.  \n",
    "\n",
    "The query result format is in the following example.  "
   ]
  },
  {
   "cell_type": "markdown",
   "id": "e44eaf02",
   "metadata": {},
   "source": [
    "```sql\n",
    "SELECT(\n",
    "    SELECT DISTICT salary\n",
    "    FROM employee\n",
    "    ORDER BY salary DESC\n",
    "    LIMIT 1 OFFSET 1)\n",
    "AS secondHighestSalary\n",
    "```"
   ]
  }
 ],
 "metadata": {
  "kernelspec": {
   "display_name": "Python 3 (ipykernel)",
   "language": "python",
   "name": "python3"
  },
  "language_info": {
   "codemirror_mode": {
    "name": "ipython",
    "version": 3
   },
   "file_extension": ".py",
   "mimetype": "text/x-python",
   "name": "python",
   "nbconvert_exporter": "python",
   "pygments_lexer": "ipython3",
   "version": "3.9.7"
  }
 },
 "nbformat": 4,
 "nbformat_minor": 5
}
