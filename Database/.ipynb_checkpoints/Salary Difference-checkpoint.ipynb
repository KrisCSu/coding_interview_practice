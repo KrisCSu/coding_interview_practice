{
 "cells": [
  {
   "cell_type": "markdown",
   "metadata": {},
   "source": [
    "# Salary Difference"
   ]
  },
  {
   "cell_type": "markdown",
   "metadata": {},
   "source": [
    "## Problem"
   ]
  },
  {
   "cell_type": "markdown",
   "metadata": {},
   "source": [
    "There are many employees at your company, with a wide range of salaries. You've decided to find out the difference in salary between the employees who make the most and the employees who make the least.\n",
    "\n",
    "You store information about your **employees** in the table employees, which has the structure:\n",
    "\n",
    "- **id**: the unique employee ID;\n",
    "- **name**: the employee's name;\n",
    "- **salary**: the employee's salary - a positive integer.\n",
    "\n",
    "The difference between the sum of the highest salaries and the sum of lowest salaries will give you the information you want. So, given the table **employees**, write a select statement as follows: The table should contain only one column **salary_diff** and only one row, which will contain the difference between sum of the highest and the sum of lowest salaries. If **employees** table is empty, the difference should be equal **0**.\n",
    "\n",
    "Example\n",
    "\n",
    "For the following table employees\n",
    "\n",
    "|id|name|salary |\n",
    "| :------------- | :----------: | -----------: |\n",
    "|1 | John | 1200\n",
    "|2 | Bill | 1000\n",
    "|3 | Mike | 1300\n",
    "|4 | Katy | 1200\n",
    "|5 | Brendon | 1300\n",
    "|6 | Amanda | 900\n",
    "\n",
    "the output should be\n",
    "\n",
    "|salary_diff|\n",
    "| --- |\n",
    "|1700|\n",
    "\n",
    "There are two highest salaries (1300) and one lowest salary (900). 1300 * 2 - 900 * 1 = 1700."
   ]
  },
  {
   "cell_type": "markdown",
   "metadata": {},
   "source": [
    "## Solution"
   ]
  },
  {
   "cell_type": "markdown",
   "metadata": {},
   "source": [
    "```sql\n",
    "CREATE PROCEDURE salaryDifference()\n",
    "BEGIN\n",
    "\t/* Write your SQL here. Terminate each statement with a semicolon. */\n",
    "    SELECT\n",
    "        IF (COUNT(*) != 0, (ma.s*ma.c) - (mi.s*mi.c), 0) AS salary_diff\n",
    "    FROM(\n",
    "        SELECT salary AS s, COUNT(*) AS c\n",
    "        FROM employees\n",
    "        GROUP BY salary\n",
    "        ORDER BY salary DESC LIMIT 1) AS ma\n",
    "    ,(\n",
    "        SELECT salary AS s, COUNT(*) AS c\n",
    "        FROM employees\n",
    "        GROUP BY salary\n",
    "        ORDER BY salary ASC LIMIT 1) AS mi;\n",
    "END\n",
    "```"
   ]
  }
 ],
 "metadata": {
  "kernelspec": {
   "display_name": "Python 3 (ipykernel)",
   "language": "python",
   "name": "python3"
  },
  "language_info": {
   "codemirror_mode": {
    "name": "ipython",
    "version": 3
   },
   "file_extension": ".py",
   "mimetype": "text/x-python",
   "name": "python",
   "nbconvert_exporter": "python",
   "pygments_lexer": "ipython3",
   "version": "3.9.7"
  }
 },
 "nbformat": 4,
 "nbformat_minor": 4
}
