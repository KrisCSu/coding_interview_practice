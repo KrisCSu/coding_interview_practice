{
 "cells": [
  {
   "cell_type": "markdown",
   "source": [
    "## 2024. Maximize the Confusion of an Exam\n",
    "A teacher is writing a test with `n` true/false questions, with `'T'` denoting true and `'F'` denoting false. He wants to confuse the students by maximizing the number of consecutive questions with the same answer (multiple trues or multiple falses in a row).\n",
    "\n",
    "You are given a string `answerKey`, where `answerKey[i]` is the original answer to the `ith` question. In addition, you are given an integer `k`, the maximum number of times you may perform the following operation:\n",
    "\n",
    "Change the answer key for any question to `'T'` or `'F'` (i.e., set `answerKey[i]` to `'T'` or `'F'`).\n",
    "Return the maximum number of consecutive `'T'`s or `'F'`s in the answer key after performing the operation at most `k` times.\n",
    "\n",
    "### Example 1:\n",
    "`Input:` answerKey = \"TTFF\", k = 2\n",
    "`Output:` 4\n",
    "`Explanation:` We can replace both the 'F's with 'T's to make answerKey = \"TTTT\".\n",
    "There are four consecutive 'T's.\n",
    "\n",
    "### Example 2:\n",
    "`Input:` answerKey = \"TFFT\", k = 1\n",
    "`Output:` 3\n",
    "`Explanation:` We can replace the first 'T' with an 'F' to make answerKey = \"FFFT\".\n",
    "Alternatively, we can replace the second 'T' with an 'F' to make answerKey = \"TFFF\".\n",
    "In both cases, there are three consecutive 'F's."
   ],
   "metadata": {
    "collapsed": false
   }
  },
  {
   "cell_type": "code",
   "execution_count": 1,
   "outputs": [],
   "source": [
    "import collections\n",
    "\n",
    "\n",
    "def maxConsecutiveAnswers(answerKey, k):\n",
    "    max_size = k\n",
    "    count = collections.Counter(answerKey[:k])\n",
    "    left = 0\n",
    "    for right in range(k, len(answerKey)):\n",
    "        count[answerKey[right]] += 1\n",
    "        while min(count['T'], count['F']) > k:\n",
    "            count[answerKey[left]] -= 1\n",
    "            left += 1\n",
    "        max_size = max(max_size, right - left + 1)\n",
    "    return max_size"
   ],
   "metadata": {
    "collapsed": false,
    "ExecuteTime": {
     "end_time": "2023-07-08T02:04:59.660796Z",
     "start_time": "2023-07-08T02:04:59.653651Z"
    }
   }
  },
  {
   "cell_type": "code",
   "execution_count": 2,
   "outputs": [
    {
     "data": {
      "text/plain": "4"
     },
     "execution_count": 2,
     "metadata": {},
     "output_type": "execute_result"
    }
   ],
   "source": [
    "answerKey = \"TTFF\"\n",
    "k = 2\n",
    "maxConsecutiveAnswers(answerKey, k)"
   ],
   "metadata": {
    "collapsed": false,
    "ExecuteTime": {
     "end_time": "2023-07-08T02:04:59.671132Z",
     "start_time": "2023-07-08T02:04:59.667705Z"
    }
   }
  }
 ],
 "metadata": {
  "kernelspec": {
   "display_name": "Python 3",
   "language": "python",
   "name": "python3"
  },
  "language_info": {
   "codemirror_mode": {
    "name": "ipython",
    "version": 2
   },
   "file_extension": ".py",
   "mimetype": "text/x-python",
   "name": "python",
   "nbconvert_exporter": "python",
   "pygments_lexer": "ipython2",
   "version": "2.7.6"
  }
 },
 "nbformat": 4,
 "nbformat_minor": 0
}
