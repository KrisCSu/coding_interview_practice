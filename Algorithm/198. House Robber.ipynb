{
 "cells": [
  {
   "cell_type": "markdown",
   "id": "d24ab865",
   "metadata": {},
   "source": [
    "## 198. House Robber\n",
    "\n",
    "You are a professional robber planning to rob houses along a street. Each house has a certain amount of money stashed, the only constraint stopping you from robbing each of them is that adjacent houses have security systems connected and it will automatically contact the police if two adjacent houses were broken into on the same night.\n",
    "\n",
    "Given an integer array nums representing the amount of money of each house, return the maximum amount of money you can rob tonight without alerting the police.\n",
    "\n",
    " \n",
    "\n",
    "**Example 1:**\n",
    "\n",
    "Input: nums = [1,2,3,1]  \n",
    "Output: 4  \n",
    "Explanation: Rob house 1 (money = 1) and then rob house 3 (money = 3).  \n",
    "Total amount you can rob = 1 + 3 = 4.\n",
    "\n",
    "**Example 2:**\n",
    "\n",
    "Input: nums = [2,7,9,3,1]    \n",
    "Output: 12  \n",
    "Explanation: Rob house 1 (money = 2), rob house 3 (money = 9) and rob house 5 (money = 1).  \n",
    "Total amount you can rob = 2 + 9 + 1 = 12.  "
   ]
  },
  {
   "cell_type": "code",
   "execution_count": 1,
   "id": "248e3c63",
   "metadata": {},
   "outputs": [],
   "source": [
    "def rob(nums):\n",
    "    if not nums:\n",
    "        return 0\n",
    "    \n",
    "    dp = [None for _ in range(len(nums))]\n",
    "    n = len(nums)\n",
    "    \n",
    "    dp[0], dp[1] = nums[0], max(nums[0], nums[1])\n",
    "    for i in range(2, len(nums)):\n",
    "        dp[i] = max(dp[i-1], dp[i-2]+nums[i])\n",
    "        \n",
    "    return dp[-1]"
   ]
  },
  {
   "cell_type": "code",
   "execution_count": 2,
   "id": "6bc21738",
   "metadata": {},
   "outputs": [
    {
     "data": {
      "text/plain": [
       "12"
      ]
     },
     "execution_count": 2,
     "metadata": {},
     "output_type": "execute_result"
    }
   ],
   "source": [
    "nums = [2,7,9,3,1]\n",
    "rob(nums)"
   ]
  }
 ],
 "metadata": {
  "kernelspec": {
   "display_name": "Python 3 (ipykernel)",
   "language": "python",
   "name": "python3"
  },
  "language_info": {
   "codemirror_mode": {
    "name": "ipython",
    "version": 3
   },
   "file_extension": ".py",
   "mimetype": "text/x-python",
   "name": "python",
   "nbconvert_exporter": "python",
   "pygments_lexer": "ipython3",
   "version": "3.9.7"
  }
 },
 "nbformat": 4,
 "nbformat_minor": 5
}
