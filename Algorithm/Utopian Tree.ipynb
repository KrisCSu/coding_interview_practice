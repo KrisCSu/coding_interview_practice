{
 "cells": [
  {
   "cell_type": "markdown",
   "metadata": {},
   "source": [
    "# Utopian Tree\n",
    "## Problem\n",
    "\n",
    "The Utopian Tree goes through 2 cycles of growth every year. Each spring, it doubles in height. Each summer, its height increases by 1 meter.\n",
    "\n",
    "A Utopian Tree sapling with a height of 1 meter is planted at the onset of spring. How tall will the tree be after  growth cycles?\n",
    "\n",
    "For example, if the number of growth cycles is , the calculations are as follows:\n",
    "\n",
    "|Period | Height|\n",
    "|---|---|\n",
    "|0|1|\n",
    "|1|2|\n",
    "|2|3|\n",
    "|3|6|\n",
    "|4|7|\n",
    "|5|14|"
   ]
  },
  {
   "cell_type": "markdown",
   "metadata": {},
   "source": [
    "## Solution"
   ]
  },
  {
   "cell_type": "code",
   "execution_count": 2,
   "metadata": {},
   "outputs": [],
   "source": [
    "def utopianTree(n):\n",
    "    '''\n",
    "    Solve the problem mathmatically\n",
    "    '''\n",
    "    height = 2**((n//2)+1) - 1\n",
    "    return height if n % 2 == 0 else height*2"
   ]
  }
 ],
 "metadata": {
  "kernelspec": {
   "display_name": "Python 3",
   "language": "python",
   "name": "python3"
  },
  "language_info": {
   "codemirror_mode": {
    "name": "ipython",
    "version": 3
   },
   "file_extension": ".py",
   "mimetype": "text/x-python",
   "name": "python",
   "nbconvert_exporter": "python",
   "pygments_lexer": "ipython3",
   "version": "3.8.0"
  }
 },
 "nbformat": 4,
 "nbformat_minor": 4
}
