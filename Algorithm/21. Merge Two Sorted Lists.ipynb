{
 "cells": [
  {
   "cell_type": "markdown",
   "id": "5ef0be2f",
   "metadata": {},
   "source": [
    "## 21. Merge Two Sorted Lists\n",
    "\n",
    "You are given the heads of two sorted linked lists `list1` and `list2`.\n",
    "\n",
    "Merge the two lists in a one **sorted** list. The list should be made by splicing together the nodes of the first two lists.\n",
    "\n",
    "Return the head of the merged linked list.\n",
    "\n",
    " \n",
    "\n",
    "**Example 1:**\n",
    "\n",
    "![image](image/21.jpg)\n",
    "```\n",
    "Input: list1 = [1,2,4], list2 = [1,3,4]\n",
    "Output: [1,1,2,3,4,4]\n",
    "```\n",
    "**Example 2:**\n",
    "```\n",
    "Input: list1 = [], list2 = []\n",
    "Output: []\n",
    "```\n",
    "**Example 3:**\n",
    "```\n",
    "Input: list1 = [], list2 = [0]\n",
    "Output: [0]\n",
    "```"
   ]
  },
  {
   "cell_type": "code",
   "execution_count": 1,
   "id": "30e05c0f",
   "metadata": {},
   "outputs": [],
   "source": [
    "def mergeTwoLists(list1, list2):\n",
    "    if list1 is None:\n",
    "        return list2\n",
    "    elif list2 is None:\n",
    "        return list1\n",
    "    elif list1.val < list2.val:\n",
    "        list1.next = mergeTwoLists(list1.next, list2)\n",
    "        return list1\n",
    "    else:\n",
    "        list2.next = mergeTwoLists(list1, list2.next)\n",
    "        return list2"
   ]
  }
 ],
 "metadata": {
  "kernelspec": {
   "display_name": "Python 3 (ipykernel)",
   "language": "python",
   "name": "python3"
  },
  "language_info": {
   "codemirror_mode": {
    "name": "ipython",
    "version": 3
   },
   "file_extension": ".py",
   "mimetype": "text/x-python",
   "name": "python",
   "nbconvert_exporter": "python",
   "pygments_lexer": "ipython3",
   "version": "3.9.7"
  }
 },
 "nbformat": 4,
 "nbformat_minor": 5
}
