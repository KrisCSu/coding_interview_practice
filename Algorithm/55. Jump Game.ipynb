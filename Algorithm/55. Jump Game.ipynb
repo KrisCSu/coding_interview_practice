{
 "cells": [
  {
   "cell_type": "markdown",
   "source": [
    "## 55. Jump Game\n",
    "\n",
    "You are given an integer array `nums`. You are initially positioned at the array's first index, and each element in the array represents your maximum jump length at that position.\n",
    "\n",
    "Return `true` if you can reach the last index, or false otherwise.\n",
    "\n",
    "\n",
    "\n",
    "*Example 1:*\n",
    "\n",
    "Input: nums = [2,3,1,1,4]\n",
    "Output: true\n",
    "Explanation: Jump 1 step from index 0 to 1, then 3 steps to the last index.\n",
    "\n",
    "*Example 2:*\n",
    "\n",
    "Input: nums = [3,2,1,0,4]\n",
    "Output: false\n",
    "Explanation: You will always arrive at index 3 no matter what. Its maximum jump length is 0, which makes it impossible to reach the last index."
   ],
   "metadata": {
    "collapsed": false
   }
  },
  {
   "cell_type": "code",
   "execution_count": 1,
   "outputs": [],
   "source": [
    "def canJump(nums):\n",
    "    last = len(nums) - 1\n",
    "    for i in range(len(nums)-1, -1, -1):\n",
    "        if i + nums[i] >= last:\n",
    "            last = i\n",
    "    return last == 0"
   ],
   "metadata": {
    "collapsed": false,
    "ExecuteTime": {
     "end_time": "2023-07-16T00:30:55.725299Z",
     "start_time": "2023-07-16T00:30:55.711627Z"
    }
   }
  },
  {
   "cell_type": "code",
   "execution_count": 2,
   "outputs": [
    {
     "data": {
      "text/plain": "True"
     },
     "execution_count": 2,
     "metadata": {},
     "output_type": "execute_result"
    }
   ],
   "source": [
    "nums = [2,3,1,1,4]\n",
    "canJump(nums)"
   ],
   "metadata": {
    "collapsed": false,
    "ExecuteTime": {
     "end_time": "2023-07-16T00:30:55.732441Z",
     "start_time": "2023-07-16T00:30:55.725656Z"
    }
   }
  },
  {
   "cell_type": "code",
   "execution_count": 3,
   "outputs": [
    {
     "data": {
      "text/plain": "False"
     },
     "execution_count": 3,
     "metadata": {},
     "output_type": "execute_result"
    }
   ],
   "source": [
    "nums = [3,2,1,0,4]\n",
    "canJump(nums)"
   ],
   "metadata": {
    "collapsed": false,
    "ExecuteTime": {
     "end_time": "2023-07-16T00:30:55.735784Z",
     "start_time": "2023-07-16T00:30:55.731385Z"
    }
   }
  }
 ],
 "metadata": {
  "kernelspec": {
   "display_name": "Python 3",
   "language": "python",
   "name": "python3"
  },
  "language_info": {
   "codemirror_mode": {
    "name": "ipython",
    "version": 2
   },
   "file_extension": ".py",
   "mimetype": "text/x-python",
   "name": "python",
   "nbconvert_exporter": "python",
   "pygments_lexer": "ipython2",
   "version": "2.7.6"
  }
 },
 "nbformat": 4,
 "nbformat_minor": 0
}
