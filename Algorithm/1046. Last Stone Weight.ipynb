{
 "cells": [
  {
   "cell_type": "markdown",
   "id": "1ef2bb0c",
   "metadata": {},
   "source": [
    "## Problem\n",
    "You are given an array of integers ==stones== where stones[i] is the weight of the ith stone.\n",
    "\n",
    "We are playing a game with the stones. On each turn, we choose the **heaviest two stones** and smash them together. Suppose the heaviest two stones have weights x and y with x <= y. The result of this smash is:\n",
    "\n",
    "- If x == y, both stones are destroyed, and\n",
    "- If x != y, the stone of weight x is destroyed, and the stone of weight y has new weight y - x.\n",
    "\n",
    "At the end of the game, there is **at most one** stone left.\n",
    "\n",
    "Return the smallest possible weight of the left stone. If there are no stones left, return 0.\n",
    "\n",
    "## Solution"
   ]
  },
  {
   "cell_type": "code",
   "execution_count": 1,
   "id": "c8999dca",
   "metadata": {},
   "outputs": [],
   "source": [
    "def lastStoneWeight(stones):\n",
    "    stones.sort()\n",
    "    while len(stones) > 1:\n",
    "        stone1 = stones.pop()\n",
    "        stone2 = stones.pop()\n",
    "        diff = abs(stone1 - stone2)\n",
    "        if diff > 0:\n",
    "            stones.append(diff)\n",
    "    if not stones:\n",
    "        return 0\n",
    "    return stones[0]"
   ]
  },
  {
   "cell_type": "code",
   "execution_count": 2,
   "id": "ea720a12",
   "metadata": {},
   "outputs": [
    {
     "data": {
      "text/plain": [
       "0"
      ]
     },
     "execution_count": 2,
     "metadata": {},
     "output_type": "execute_result"
    }
   ],
   "source": [
    "stones=[1,2,3,6,7,7]\n",
    "lastStoneWeight(stones)"
   ]
  },
  {
   "cell_type": "code",
   "execution_count": 3,
   "id": "10136e46",
   "metadata": {},
   "outputs": [
    {
     "data": {
      "text/plain": [
       "1"
      ]
     },
     "execution_count": 3,
     "metadata": {},
     "output_type": "execute_result"
    }
   ],
   "source": [
    "stones = [2,7,4,1,8,1]\n",
    "lastStoneWeight(stones)"
   ]
  },
  {
   "cell_type": "code",
   "execution_count": 4,
   "id": "96f3a2b4",
   "metadata": {},
   "outputs": [],
   "source": [
    "import heapq\n",
    "def lastStoneWeight2(stones):\n",
    "    stones = [-i for i in stones]\n",
    "\n",
    "    heapq.heapify(stones)\n",
    "\n",
    "    while len(stones) > 1:\n",
    "        stone_1 = heapq.heappop(stones)\n",
    "        stone_2 = heapq.heappop(stones)\n",
    "        if stone_1 != stone_2:\n",
    "            heapq.heappush(stones, stone_1 - stone_2)\n",
    "\n",
    "    if not stones:\n",
    "        return 0\n",
    "    return -heapq.heappop(stones)"
   ]
  },
  {
   "cell_type": "code",
   "execution_count": 5,
   "id": "97c91f3b",
   "metadata": {},
   "outputs": [
    {
     "data": {
      "text/plain": [
       "0"
      ]
     },
     "execution_count": 5,
     "metadata": {},
     "output_type": "execute_result"
    }
   ],
   "source": [
    "stones=[1,2,3,6,7,7]\n",
    "lastStoneWeight2(stones)"
   ]
  },
  {
   "cell_type": "code",
   "execution_count": 6,
   "id": "7c5f0b2d",
   "metadata": {},
   "outputs": [
    {
     "data": {
      "text/plain": [
       "1"
      ]
     },
     "execution_count": 6,
     "metadata": {},
     "output_type": "execute_result"
    }
   ],
   "source": [
    "stones = [2,7,4,1,8,1]\n",
    "lastStoneWeight2(stones)"
   ]
  }
 ],
 "metadata": {
  "kernelspec": {
   "display_name": "Python 3 (ipykernel)",
   "language": "python",
   "name": "python3"
  },
  "language_info": {
   "codemirror_mode": {
    "name": "ipython",
    "version": 3
   },
   "file_extension": ".py",
   "mimetype": "text/x-python",
   "name": "python",
   "nbconvert_exporter": "python",
   "pygments_lexer": "ipython3",
   "version": "3.8.10"
  }
 },
 "nbformat": 4,
 "nbformat_minor": 5
}
