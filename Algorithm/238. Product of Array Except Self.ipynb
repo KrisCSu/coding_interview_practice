{
 "cells": [
  {
   "cell_type": "markdown",
   "source": [
    "# 238. Product of Array Except Self\n",
    "\n",
    "Given an integer array `nums`, return an array `answer` such that `answer[i]` is equal to the product of all the elements of `nums` except `nums[i]`.\n",
    "\n",
    "The product of any prefix or suffix of `nums` is guaranteed to fit in a 32-bit integer.\n",
    "\n",
    "You must write an algorithm that runs in `O(n)` time and without using the division operation.\n",
    "\n",
    "### Example 1:\n",
    "*Input:* nums = [1,2,3,4]\n",
    "*Output:* [24,12,8,6]\n",
    "\n",
    "### Example 2:\n",
    "*Input:* nums = [-1,1,0,-3,3]\n",
    "*Output:* [0,0,9,0,0]"
   ],
   "metadata": {
    "collapsed": false
   }
  },
  {
   "cell_type": "code",
   "execution_count": 1,
   "outputs": [],
   "source": [
    "def productExceptSelf(nums):\n",
    "    length = len(nums)\n",
    "    left, right, ans = [0]*length, [0]*length, [0]*length\n",
    "    left[0] = 1\n",
    "    for i in range(1, length):\n",
    "        left[i] = left[i-1] * nums[i-1]\n",
    "    right[i] = 1\n",
    "    for i in reversed(range(length-1)):\n",
    "        right[i] = right[i+1] * nums[i+1]\n",
    "    for i in range(length):\n",
    "        ans[i] = left[i] * right[i]\n",
    "    return ans"
   ],
   "metadata": {
    "collapsed": false,
    "ExecuteTime": {
     "end_time": "2023-07-01T01:58:36.157478Z",
     "start_time": "2023-07-01T01:58:36.154292Z"
    }
   }
  },
  {
   "cell_type": "code",
   "execution_count": 2,
   "outputs": [
    {
     "data": {
      "text/plain": "[24, 12, 8, 6]"
     },
     "execution_count": 2,
     "metadata": {},
     "output_type": "execute_result"
    }
   ],
   "source": [
    "nums = [1,2,3,4]\n",
    "productExceptSelf(nums)"
   ],
   "metadata": {
    "collapsed": false,
    "ExecuteTime": {
     "end_time": "2023-07-01T01:58:36.170186Z",
     "start_time": "2023-07-01T01:58:36.166064Z"
    }
   }
  }
 ],
 "metadata": {
  "kernelspec": {
   "display_name": "Python 3",
   "language": "python",
   "name": "python3"
  },
  "language_info": {
   "codemirror_mode": {
    "name": "ipython",
    "version": 2
   },
   "file_extension": ".py",
   "mimetype": "text/x-python",
   "name": "python",
   "nbconvert_exporter": "python",
   "pygments_lexer": "ipython2",
   "version": "2.7.6"
  }
 },
 "nbformat": 4,
 "nbformat_minor": 0
}
