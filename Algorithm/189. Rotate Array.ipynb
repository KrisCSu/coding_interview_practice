{
 "cells": [
  {
   "cell_type": "markdown",
   "id": "d64c97bb",
   "metadata": {},
   "source": [
    "## Problem\n",
    "Given an array, rotate the array to the right by k steps, where k is non-negative.\n",
    "\n",
    "## Examples\n",
    "Example 1:\n",
    "\n",
    "    Input: nums = [1,2,3,4,5,6,7], k = 3\n",
    "    Output: [5,6,7,1,2,3,4] \n",
    "    Explanation:\n",
    "    rotate 1 steps to the right: [7,1,2,3,4,5,6] \n",
    "    rotate 2 steps to the right: [6,7,1,2,3,4,5] \n",
    "    rotate 3 steps to the right: [5,6,7,1,2,3,4] \n",
    "\n",
    "Example 2: \n",
    "\n",
    "    Input: nums = [-1,-100,3,99], k = 2 \n",
    "    Output: [3,99,-1,-100] \n",
    "    Explanation:  \n",
    "    rotate 1 steps to the right: [99,-1,-100,3] \n",
    "    rotate 2 steps to the right: [3,99,-1,-100] \n",
    "\n",
    "## Solution"
   ]
  },
  {
   "cell_type": "code",
   "execution_count": 1,
   "id": "57446ffa",
   "metadata": {},
   "outputs": [],
   "source": [
    "def rotate(nums, k):\n",
    "    n = len(nums)\n",
    "    k %= n\n",
    "    \n",
    "    start = count = 0\n",
    "    while count < n:\n",
    "        current, prev = start, nums[start]\n",
    "        while True:\n",
    "            next_idx = (current + k) % n\n",
    "            nums[next_idx], prev = prev, nums[next_idx]\n",
    "            current = next_idx\n",
    "            count += 1\n",
    "            if current == start:\n",
    "                break\n",
    "        start += 1"
   ]
  },
  {
   "cell_type": "code",
   "execution_count": 2,
   "id": "151a729a",
   "metadata": {},
   "outputs": [],
   "source": [
    "def rotate2(nums, k):\n",
    "    n = len(nums)\n",
    "    k %= n\n",
    "    \n",
    "    nums.reverse()\n",
    "    nums[0:k] = nums[0:k][::-1]\n",
    "    nums[k:n] = nums[k:n][::-1]"
   ]
  },
  {
   "cell_type": "code",
   "execution_count": 3,
   "id": "83b41d4d",
   "metadata": {},
   "outputs": [],
   "source": [
    "def rotate3(nums, k):\n",
    "    '''based on rotate2\n",
    "        but no additional memory needed\n",
    "    '''\n",
    "    n = len(nums)\n",
    "    k %= n\n",
    "    \n",
    "    reverse_helper(nums, 0, n-1)\n",
    "    reverse_helper(nums, 0, k-1)\n",
    "    reverse_helper(nums, k, n-1)\n",
    "    \n",
    "def reverse_helper(nums, start, end):\n",
    "    while start < end:\n",
    "        nums[start], nums[end] = nums[end], nums[start]\n",
    "        start += 1\n",
    "        end -= 1"
   ]
  },
  {
   "cell_type": "markdown",
   "id": "7225ed5a",
   "metadata": {},
   "source": [
    "## Test"
   ]
  },
  {
   "cell_type": "code",
   "execution_count": 4,
   "id": "f23c78c7",
   "metadata": {},
   "outputs": [
    {
     "data": {
      "text/plain": [
       "[5, 6, 7, 1, 2, 3, 4]"
      ]
     },
     "execution_count": 4,
     "metadata": {},
     "output_type": "execute_result"
    }
   ],
   "source": [
    "nums = [1,2,3,4,5,6,7]\n",
    "k = 3\n",
    "rotate(nums, k)\n",
    "nums"
   ]
  },
  {
   "cell_type": "code",
   "execution_count": 5,
   "id": "5f0061f5",
   "metadata": {},
   "outputs": [
    {
     "data": {
      "text/plain": [
       "[5, 6, 7, 1, 2, 3, 4]"
      ]
     },
     "execution_count": 5,
     "metadata": {},
     "output_type": "execute_result"
    }
   ],
   "source": [
    "nums = [1,2,3,4,5,6,7]\n",
    "k = 3\n",
    "rotate2(nums, k)\n",
    "nums"
   ]
  },
  {
   "cell_type": "code",
   "execution_count": 6,
   "id": "c2f1c5b3",
   "metadata": {},
   "outputs": [
    {
     "data": {
      "text/plain": [
       "[5, 6, 7, 1, 2, 3, 4]"
      ]
     },
     "execution_count": 6,
     "metadata": {},
     "output_type": "execute_result"
    }
   ],
   "source": [
    "nums = [1,2,3,4,5,6,7]\n",
    "k = 3\n",
    "rotate3(nums, k)\n",
    "nums"
   ]
  }
 ],
 "metadata": {
  "kernelspec": {
   "display_name": "Python 3",
   "language": "python",
   "name": "python3"
  },
  "language_info": {
   "codemirror_mode": {
    "name": "ipython",
    "version": 3
   },
   "file_extension": ".py",
   "mimetype": "text/x-python",
   "name": "python",
   "nbconvert_exporter": "python",
   "pygments_lexer": "ipython3",
   "version": "3.8.0"
  }
 },
 "nbformat": 4,
 "nbformat_minor": 5
}
