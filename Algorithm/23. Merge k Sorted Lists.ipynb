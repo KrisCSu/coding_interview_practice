{
 "cells": [
  {
   "cell_type": "markdown",
   "id": "6785a9dc",
   "metadata": {},
   "source": [
    "## 23. Merge k Sorted Lists\n",
    "\n",
    "You are given an array of k linked-lists lists, each linked-list is sorted in ascending order.\n",
    "\n",
    "Merge all the linked-lists into one sorted linked-list and return it.\n",
    "\n",
    " \n",
    "\n",
    "**Example 1:**\n",
    "\n",
    "Input: lists = [[1,4,5],[1,3,4],[2,6]]  \n",
    "Output: [1,1,2,3,4,4,5,6]  \n",
    "Explanation: The linked-lists are:  \n",
    "[\n",
    "  1->4->5,\n",
    "  1->3->4,\n",
    "  2->6\n",
    "]  \n",
    "merging them into one sorted list:\n",
    "1->1->2->3->4->4->5->6\n",
    "\n",
    "**Example 2:**\n",
    "\n",
    "Input: lists = []  \n",
    "Output: [] \n",
    "\n",
    "**Example 3:**\n",
    "\n",
    "Input: lists = [[]]  \n",
    "Output: []"
   ]
  },
  {
   "cell_type": "code",
   "execution_count": 1,
   "id": "c70afaf9",
   "metadata": {},
   "outputs": [],
   "source": [
    "def mergeKLists(self, lists):\n",
    "    if not lists:\n",
    "        return None\n",
    "    if len(lists) == 1:\n",
    "        return lists[0]\n",
    "    mid = len(lists) // 2\n",
    "    l, r = self.mergeKLists(lists[:mid]), self.mergeKLists(lists[mid:])\n",
    "    self.merge(l,r)\n",
    "    \n",
    "def merge(self, l, r):\n",
    "    if not l or r:\n",
    "        return l or r\n",
    "    if l.val < r.val:\n",
    "        l.next = self.merge(l.next, r)\n",
    "        return l\n",
    "    r.next = self.merge(l, r.next)\n",
    "    return r"
   ]
  },
  {
   "cell_type": "code",
   "execution_count": 2,
   "id": "2514b5b8",
   "metadata": {},
   "outputs": [],
   "source": [
    "def mergeKLists(self, lists):\n",
    "    array = []\n",
    "    for i in range(len(lists)):\n",
    "        head = lists[i]\n",
    "        while head:\n",
    "            array.append(head.val)\n",
    "            head = head.next\n",
    "    array.sort()\n",
    "    \n",
    "    res = ListNode(0)\n",
    "    current = res\n",
    "    for i in range(len(array)):\n",
    "        current.next = ListNode(array[i])\n",
    "        current = current.next\n",
    "    return res.next"
   ]
  }
 ],
 "metadata": {
  "kernelspec": {
   "display_name": "Python 3 (ipykernel)",
   "language": "python",
   "name": "python3"
  },
  "language_info": {
   "codemirror_mode": {
    "name": "ipython",
    "version": 3
   },
   "file_extension": ".py",
   "mimetype": "text/x-python",
   "name": "python",
   "nbconvert_exporter": "python",
   "pygments_lexer": "ipython3",
   "version": "3.9.7"
  }
 },
 "nbformat": 4,
 "nbformat_minor": 5
}
