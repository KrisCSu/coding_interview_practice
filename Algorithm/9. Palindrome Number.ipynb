{
 "cells": [
  {
   "cell_type": "markdown",
   "id": "38382fee",
   "metadata": {},
   "source": [
    "## Palindrome Number\n",
    "Given an integer `x`, return true if `x` is palindrome integer.\n",
    "\n",
    "An integer is a palindrome when it reads the same backward as forward. For example, `121` is palindrome while `123` is not.\n",
    "\n",
    "## Example\n",
    "### Example 1:\n",
    "\n",
    "Input: x = 121\n",
    "Output: true\n",
    "\n",
    "### Example 2:\n",
    "\n",
    "Input: x = -121\n",
    "Output: false\n",
    "Explanation: From left to right, it reads -121. From right to left, it becomes 121-. Therefore it is not a palindrome.\n",
    "\n",
    "## Solution"
   ]
  },
  {
   "cell_type": "code",
   "execution_count": 1,
   "id": "3afda574",
   "metadata": {},
   "outputs": [],
   "source": [
    "def isPalindrome(x):\n",
    "    return x == int(str(x)[::-1])"
   ]
  },
  {
   "cell_type": "code",
   "execution_count": 2,
   "id": "217af33c",
   "metadata": {},
   "outputs": [],
   "source": [
    "def isPalindrome2(x):\n",
    "    if x < 0 or (x % 10 ==0 and x != 0):\n",
    "        return False\n",
    "    \n",
    "    temp = 0\n",
    "    while(x > temp):\n",
    "        temp = temp*10 + x%10\n",
    "        x /= 10\n",
    "    return x == temp or x == temp/10"
   ]
  }
 ],
 "metadata": {
  "kernelspec": {
   "display_name": "Python 3 (ipykernel)",
   "language": "python",
   "name": "python3"
  },
  "language_info": {
   "codemirror_mode": {
    "name": "ipython",
    "version": 3
   },
   "file_extension": ".py",
   "mimetype": "text/x-python",
   "name": "python",
   "nbconvert_exporter": "python",
   "pygments_lexer": "ipython3",
   "version": "3.8.10"
  }
 },
 "nbformat": 4,
 "nbformat_minor": 5
}
