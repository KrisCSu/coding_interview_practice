{
 "cells": [
  {
   "cell_type": "markdown",
   "id": "baa798ae",
   "metadata": {},
   "source": [
    "## 104. Maximum Depth of Binary Tree\n",
    "\n",
    "Given the `root` of a binary tree, return its maximum depth.\n",
    "\n",
    "A binary tree's **maximum depth** is the number of nodes along the longest path from the root node down to the farthest leaf node.\n",
    "\n",
    " \n",
    "\n",
    "**Example 1:**\n",
    "![image](image/tmp-tree.jpg)\n",
    "\n",
    "Input: root = [3,9,20,null,null,15,7]  \n",
    "Output: 3\n",
    "\n",
    "**Example 2:**\n",
    "\n",
    "Input: root = [1,null,2]  \n",
    "Output: 2"
   ]
  },
  {
   "cell_type": "code",
   "execution_count": 1,
   "id": "7d179b97",
   "metadata": {},
   "outputs": [],
   "source": [
    "def maxDepth(root):\n",
    "    if not root:\n",
    "        return 0\n",
    "    left = maxDepth(root.left)\n",
    "    right = maxDepth(root.right)\n",
    "    return max(left, right) + 1"
   ]
  }
 ],
 "metadata": {
  "kernelspec": {
   "display_name": "Python 3 (ipykernel)",
   "language": "python",
   "name": "python3"
  },
  "language_info": {
   "codemirror_mode": {
    "name": "ipython",
    "version": 3
   },
   "file_extension": ".py",
   "mimetype": "text/x-python",
   "name": "python",
   "nbconvert_exporter": "python",
   "pygments_lexer": "ipython3",
   "version": "3.9.7"
  }
 },
 "nbformat": 4,
 "nbformat_minor": 5
}
