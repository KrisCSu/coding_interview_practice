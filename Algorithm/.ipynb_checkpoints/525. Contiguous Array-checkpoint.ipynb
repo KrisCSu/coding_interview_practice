{
 "cells": [
  {
   "cell_type": "markdown",
   "id": "4337fa30",
   "metadata": {},
   "source": [
    "## 525. Contiguous Array\n",
    "\n",
    "Given a binary array nums, return the maximum length of a contiguous subarray with an equal number of 0 and 1.\n",
    "\n",
    " \n",
    "\n",
    "**Example 1:**\n",
    "\n",
    "Input: nums = [0, 1]  \n",
    "Output: 2  \n",
    "Explanation: [0, 1] is the longest contiguous subarray with an equal number of 0 and 1.  \n",
    "\n",
    "**Example 2:**  \n",
    "\n",
    "Input: nums = [0, 1, 0]  \n",
    "Output: 2  \n",
    "Explanation: [0, 1] (or [1, 0]) is a longest contiguous subarray with equal number of 0 and 1."
   ]
  },
  {
   "cell_type": "code",
   "execution_count": 1,
   "id": "5c8fc853",
   "metadata": {},
   "outputs": [],
   "source": [
    "def findMaxLength(nums):\n",
    "    count = res = 0\n",
    "    hash_map = {0:-1}\n",
    "    \n",
    "    for i, num in enumerate(nums):\n",
    "        if num == 0:\n",
    "            count -= 1\n",
    "        if num == 1:\n",
    "            count += 1\n",
    "    \n",
    "        if count in hash_map:\n",
    "            res = max(res, i - hash_map[count])\n",
    "        else:\n",
    "            hash_map[count] = i\n",
    "            \n",
    "    return res"
   ]
  },
  {
   "cell_type": "code",
   "execution_count": 2,
   "id": "90fb883c",
   "metadata": {},
   "outputs": [
    {
     "data": {
      "text/plain": [
       "2"
      ]
     },
     "execution_count": 2,
     "metadata": {},
     "output_type": "execute_result"
    }
   ],
   "source": [
    "nums = [0, 1]\n",
    "findMaxLength(nums)"
   ]
  },
  {
   "cell_type": "code",
   "execution_count": 3,
   "id": "a76ef5d6",
   "metadata": {},
   "outputs": [
    {
     "data": {
      "text/plain": [
       "2"
      ]
     },
     "execution_count": 3,
     "metadata": {},
     "output_type": "execute_result"
    }
   ],
   "source": [
    "nums = [0, 1, 0]\n",
    "findMaxLength(nums)"
   ]
  }
 ],
 "metadata": {
  "kernelspec": {
   "display_name": "Python 3 (ipykernel)",
   "language": "python",
   "name": "python3"
  },
  "language_info": {
   "codemirror_mode": {
    "name": "ipython",
    "version": 3
   },
   "file_extension": ".py",
   "mimetype": "text/x-python",
   "name": "python",
   "nbconvert_exporter": "python",
   "pygments_lexer": "ipython3",
   "version": "3.9.7"
  }
 },
 "nbformat": 4,
 "nbformat_minor": 5
}
