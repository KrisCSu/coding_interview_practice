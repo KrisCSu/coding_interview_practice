{
 "cells": [
  {
   "cell_type": "markdown",
   "id": "2489a77f",
   "metadata": {},
   "source": [
    "## 66. Plus One\n",
    "You are given a large integer represented as an integer array `digits`, where each `digits[i]` is the `ith` digit of the integer. The digits are ordered from most significant to least significant in left-to-right order. The large integer does not contain any leading `0`'s.\n",
    "\n",
    "Increment the large integer by one and return the resulting array of digits.\n",
    "\n",
    " \n",
    "\n",
    "**Example 1:**\n",
    "\n",
    "Input: digits = [1,2,3]  \n",
    "Output: [1,2,4]  \n",
    "Explanation: The array represents the integer 123.  \n",
    "Incrementing by one gives 123 + 1 = 124.  \n",
    "Thus, the result should be [1,2,4].  \n",
    "\n",
    "\n",
    "**Example 2:**\n",
    "\n",
    "Input: digits = [4,3,2,1]  \n",
    "Output: [4,3,2,2]  \n",
    "Explanation: The array represents the integer 4321.  \n",
    "Incrementing by one gives 4321 + 1 = 4322.  \n",
    "Thus, the result should be [4,3,2,2].  \n",
    "\n",
    "\n",
    "**Example 3:**\n",
    "\n",
    "Input: digits = [9]  \n",
    "Output: [1,0]  \n",
    "Explanation: The array represents the integer 9.  \n",
    "Incrementing by one gives 9 + 1 = 10.  \n",
    "Thus, the result should be [1,0].  "
   ]
  },
  {
   "cell_type": "code",
   "execution_count": 1,
   "id": "5fdffb2c",
   "metadata": {},
   "outputs": [],
   "source": [
    "def plusOne(digits):\n",
    "    n = len(digits)\n",
    "        \n",
    "    for i in range(n):\n",
    "        index = n-1-i\n",
    "        if digits[index] == 9:\n",
    "            digits[index] = 0\n",
    "        else:\n",
    "            digits[index] += 1\n",
    "            return digits\n",
    "        \n",
    "    # if digits composed of 9's\n",
    "    return [1]+digits "
   ]
  },
  {
   "cell_type": "code",
   "execution_count": 2,
   "id": "dbb576f2",
   "metadata": {},
   "outputs": [],
   "source": [
    "def plusOne2(digits):\n",
    "    num = 0\n",
    "    for digit in digits:\n",
    "        num = num*10 + digit\n",
    "    num = str(num + 1)\n",
    "    \n",
    "    return [int(i) for i in num]"
   ]
  },
  {
   "cell_type": "code",
   "execution_count": 3,
   "id": "7727d5bf",
   "metadata": {},
   "outputs": [
    {
     "data": {
      "text/plain": [
       "[4, 3, 2, 2]"
      ]
     },
     "execution_count": 3,
     "metadata": {},
     "output_type": "execute_result"
    }
   ],
   "source": [
    "digits = [4,3,2,1]\n",
    "plusOne2(digits)"
   ]
  }
 ],
 "metadata": {
  "kernelspec": {
   "display_name": "Python 3 (ipykernel)",
   "language": "python",
   "name": "python3"
  },
  "language_info": {
   "codemirror_mode": {
    "name": "ipython",
    "version": 3
   },
   "file_extension": ".py",
   "mimetype": "text/x-python",
   "name": "python",
   "nbconvert_exporter": "python",
   "pygments_lexer": "ipython3",
   "version": "3.9.7"
  }
 },
 "nbformat": 4,
 "nbformat_minor": 5
}
