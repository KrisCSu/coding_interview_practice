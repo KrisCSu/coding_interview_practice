{
 "cells": [
  {
   "cell_type": "markdown",
   "metadata": {},
   "source": [
    "## Problem\n",
    "Consider a rectangular board consisting of `n × m` cells. You are standing in the cell with coordinates `(0, 0)`. You are going to reach the cell `(n - 1, m - 1)`. On each move you are allowed only to increase exactly one of your coordinates by `1` (move one cell right or down).\n",
    "\n",
    "Find the number of the paths which satisfy all of the above-mentioned conditions and traverse the cell `(x, y)`."
   ]
  },
  {
   "cell_type": "markdown",
   "metadata": {},
   "source": [
    "## Example\n",
    "\n",
    "For `n = 3`, `m = 3`, `x = 1`, and `y = 1`, the output should be\n",
    "countPathsThroughCell `(n, m, x, y) = 4`.\n",
    "\n",
    "Check out the image below for better understanding of the example case:\n"
   ]
  },
  {
   "cell_type": "markdown",
   "metadata": {},
   "source": [
    "![image](image/img1.png)"
   ]
  },
  {
   "cell_type": "code",
   "execution_count": 1,
   "metadata": {},
   "outputs": [],
   "source": [
    "def countPathsThroughCell(n, m, x, y):\n",
    "    dp = [[0] * (m+1) for _ in range (n+1)]\n",
    "        \n",
    "    dp[0][0] = 1\n",
    "    for i in range(n):\n",
    "        for j in range(m):\n",
    "            dp[i+1][j] += dp[i][j]\n",
    "            dp[i][j+1] += dp[i][j]\n",
    "        \n",
    "    return dp[x][y] * dp[n-1-x][m-1-y]"
   ]
  }
 ],
 "metadata": {
  "kernelspec": {
   "display_name": "Python 3 (ipykernel)",
   "language": "python",
   "name": "python3"
  },
  "language_info": {
   "codemirror_mode": {
    "name": "ipython",
    "version": 3
   },
   "file_extension": ".py",
   "mimetype": "text/x-python",
   "name": "python",
   "nbconvert_exporter": "python",
   "pygments_lexer": "ipython3",
   "version": "3.8.10"
  }
 },
 "nbformat": 4,
 "nbformat_minor": 4
}
