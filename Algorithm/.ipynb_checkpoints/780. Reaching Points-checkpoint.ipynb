{
 "cells": [
  {
   "cell_type": "markdown",
   "id": "0aabdf9f",
   "metadata": {},
   "source": [
    "## 780. Reaching Points\n",
    "\n",
    "Given four integers `sx`, `sy`, `tx`, and `ty`, return `true` if it is possible to convert the point `(sx, sy)` to the point `(tx, ty)` through some operations, or `false` otherwise.\n",
    "\n",
    "The allowed operation on some point `(x, y)` is to convert it to either `(x, x + y)` or `(x + y, y)`.\n",
    "\n",
    " \n",
    "\n",
    "**Example 1:**\n",
    "\n",
    "Input: sx = 1, sy = 1, tx = 3, ty = 5  \n",
    "Output: true  \n",
    "Explanation:  \n",
    "One series of moves that transforms the starting point to the target is:  \n",
    "(1, 1) -> (1, 2)  \n",
    "(1, 2) -> (3, 2)  \n",
    "(3, 2) -> (3, 5)  \n",
    "\n",
    "**Example 2:**\n",
    "\n",
    "Input: sx = 1, sy = 1, tx = 2, ty = 2  \n",
    "Output: false  \n",
    "\n",
    "**Example 3:**\n",
    "\n",
    "Input: sx = 1, sy = 1, tx = 1, ty = 1  \n",
    "Output: true  "
   ]
  },
  {
   "cell_type": "code",
   "execution_count": 1,
   "id": "6b799fa6",
   "metadata": {},
   "outputs": [],
   "source": [
    "def reachingPoints(sx, sy, tx, ty):\n",
    "    while sx <= tx and sy <= ty:\n",
    "        if sx == tx and (ty-sy) % sx == 0:\n",
    "            return True\n",
    "        if sy == ty and (tx-sx) % sy == 0:\n",
    "            return True \n",
    "        tx, ty = tx % ty, ty % tx\n",
    "    return False"
   ]
  },
  {
   "cell_type": "code",
   "execution_count": 2,
   "id": "c0f3a183",
   "metadata": {},
   "outputs": [
    {
     "data": {
      "text/plain": [
       "True"
      ]
     },
     "execution_count": 2,
     "metadata": {},
     "output_type": "execute_result"
    }
   ],
   "source": [
    "sx = 1\n",
    "sy = 1\n",
    "tx = 3\n",
    "ty = 5\n",
    "reachingPoints(sx, sy, tx, ty)"
   ]
  },
  {
   "cell_type": "code",
   "execution_count": 3,
   "id": "c5c670bd",
   "metadata": {},
   "outputs": [
    {
     "data": {
      "text/plain": [
       "False"
      ]
     },
     "execution_count": 3,
     "metadata": {},
     "output_type": "execute_result"
    }
   ],
   "source": [
    "sx = 1\n",
    "sy = 1\n",
    "tx = 2\n",
    "ty = 2\n",
    "reachingPoints(sx, sy, tx, ty)"
   ]
  }
 ],
 "metadata": {
  "kernelspec": {
   "display_name": "Python 3 (ipykernel)",
   "language": "python",
   "name": "python3"
  },
  "language_info": {
   "codemirror_mode": {
    "name": "ipython",
    "version": 3
   },
   "file_extension": ".py",
   "mimetype": "text/x-python",
   "name": "python",
   "nbconvert_exporter": "python",
   "pygments_lexer": "ipython3",
   "version": "3.9.7"
  }
 },
 "nbformat": 4,
 "nbformat_minor": 5
}
