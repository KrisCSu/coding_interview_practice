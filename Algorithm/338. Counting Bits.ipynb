{
 "cells": [
  {
   "cell_type": "markdown",
   "id": "10c3dbf2",
   "metadata": {},
   "source": [
    "Given an integer `n`, return an array `ans` of length `n + 1` such that for each `i` (`0 <= i <= n`), `ans[i]` is the number of `1`'s in the binary representation of `i`.  \n",
    "\n",
    "**Example 1:**\n",
    "```\n",
    "Input: n = 2\n",
    "Output: [0,1,1]\n",
    "Explanation:\n",
    "0 --> 0\n",
    "1 --> 1\n",
    "2 --> 10\n",
    "```\n",
    "**Example 2:**\n",
    "```\n",
    "Input: n = 5\n",
    "Output: [0,1,1,2,1,2]\n",
    "Explanation:\n",
    "0 --> 0\n",
    "1 --> 1\n",
    "2 --> 10\n",
    "3 --> 11\n",
    "4 --> 100\n",
    "5 --> 101\n",
    "```"
   ]
  },
  {
   "cell_type": "code",
   "execution_count": 1,
   "id": "7acea042",
   "metadata": {},
   "outputs": [],
   "source": [
    "def countBits(n):\n",
    "    res = [0]*(n+1)\n",
    "    for i in range(1, n+1):\n",
    "        res[i] = res[i>>1] + (i&1)\n",
    "    return res\n",
    "# https://wiki.python.org/moin/BitwiseOperators"
   ]
  },
  {
   "cell_type": "code",
   "execution_count": 2,
   "id": "824139bb",
   "metadata": {},
   "outputs": [
    {
     "data": {
      "text/plain": [
       "[0, 1, 1]"
      ]
     },
     "execution_count": 2,
     "metadata": {},
     "output_type": "execute_result"
    }
   ],
   "source": [
    "countBits(2)"
   ]
  },
  {
   "cell_type": "code",
   "execution_count": 3,
   "id": "b5e1e4ae",
   "metadata": {},
   "outputs": [
    {
     "data": {
      "text/plain": [
       "[0, 1, 1, 2, 1, 2]"
      ]
     },
     "execution_count": 3,
     "metadata": {},
     "output_type": "execute_result"
    }
   ],
   "source": [
    "countBits(5)"
   ]
  }
 ],
 "metadata": {
  "kernelspec": {
   "display_name": "Python 3 (ipykernel)",
   "language": "python",
   "name": "python3"
  },
  "language_info": {
   "codemirror_mode": {
    "name": "ipython",
    "version": 3
   },
   "file_extension": ".py",
   "mimetype": "text/x-python",
   "name": "python",
   "nbconvert_exporter": "python",
   "pygments_lexer": "ipython3",
   "version": "3.9.7"
  }
 },
 "nbformat": 4,
 "nbformat_minor": 5
}
