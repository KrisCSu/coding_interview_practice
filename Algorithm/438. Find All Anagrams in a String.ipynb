{
 "cells": [
  {
   "cell_type": "markdown",
   "id": "4b6c5447",
   "metadata": {},
   "source": [
    "## 438. Find All Anagrams in a String\n",
    "\n",
    "Given two strings s and p, return an array of all the start indices of p's anagrams in s. You may return the answer in any order.\n",
    "\n",
    "An Anagram is a word or phrase formed by rearranging the letters of a different word or phrase, typically using all the original letters exactly once.\n",
    "\n",
    " \n",
    "\n",
    "**Example 1:**\n",
    "\n",
    "Input: s = \"cbaebabacd\", p = \"abc\"  \n",
    "Output: [0,6]  \n",
    "Explanation:  \n",
    "The substring with start index = 0 is \"cba\", which is an anagram of \"abc\".  \n",
    "The substring with start index = 6 is \"bac\", which is an anagram of \"abc\".  \n",
    "\n",
    "\n",
    "**Example 2:**\n",
    "\n",
    "Input: s = \"abab\", p = \"ab\"  \n",
    "Output: [0,1,2]  \n",
    "Explanation:  \n",
    "The substring with start index = 0 is \"ab\", which is an anagram of \"ab\".  \n",
    "The substring with start index = 1 is \"ba\", which is an anagram of \"ab\".  \n",
    "The substring with start index = 2 is \"ab\", which is an anagram of \"ab\".  "
   ]
  },
  {
   "cell_type": "code",
   "execution_count": 1,
   "id": "e13cf51c",
   "metadata": {},
   "outputs": [],
   "source": [
    "def findAnagrams(s, p):\n",
    "    ns, np = len(s), len(p)\n",
    "    if ns< np:\n",
    "        return []\n",
    "        \n",
    "    p_count, s_count = [0]*26, [0]*26\n",
    "        \n",
    "    for char in p:\n",
    "        p_count[ord(char) - ord('a')] += 1\n",
    "        \n",
    "    res = []\n",
    "    for i in range(ns):\n",
    "        s_count[ord(s[i]) - ord('a')] += 1\n",
    "        if i >= np:\n",
    "            s_count[ord(s[i-np]) - ord('a')] -= 1\n",
    "        if p_count == s_count:\n",
    "            res.append(i-np+1)\n",
    "    return res"
   ]
  },
  {
   "cell_type": "code",
   "execution_count": 2,
   "id": "4f7457e2",
   "metadata": {},
   "outputs": [
    {
     "data": {
      "text/plain": [
       "[0, 6]"
      ]
     },
     "execution_count": 2,
     "metadata": {},
     "output_type": "execute_result"
    }
   ],
   "source": [
    "s = \"cbaebabacd\"\n",
    "p = \"abc\"\n",
    "findAnagrams(s,p)"
   ]
  },
  {
   "cell_type": "code",
   "execution_count": 3,
   "id": "ca2e507f",
   "metadata": {},
   "outputs": [
    {
     "data": {
      "text/plain": [
       "[0, 1, 2]"
      ]
     },
     "execution_count": 3,
     "metadata": {},
     "output_type": "execute_result"
    }
   ],
   "source": [
    "s = \"abab\"\n",
    "p = \"ab\"\n",
    "findAnagrams(s, p)"
   ]
  },
  {
   "cell_type": "code",
   "execution_count": 4,
   "id": "8d65cc0a",
   "metadata": {},
   "outputs": [],
   "source": [
    "def findAnagrams2(s, p):\n",
    "    hashMap = {}\n",
    "    for char in p:\n",
    "        if char in hashMap:\n",
    "            hashMap[char] += 1\n",
    "        else:\n",
    "            hashMap[char] = 1\n",
    "    \n",
    "    result = []\n",
    "    lettersToMatch = len(hashMap)\n",
    "    for i in range(len(s)):\n",
    "        add = s[i]\n",
    "        if add in hashMap:\n",
    "            hashMap[add] -= 1\n",
    "            if hashMap[add] == 0:\n",
    "                lettersToMatch -= 1\n",
    "\n",
    "        if i >= len(p):\n",
    "            remove = s[i - len(p)]\n",
    "            if remove in hashMap:\n",
    "                hashMap[remove] += 1\n",
    "                if hashMap[remove] == 1:\n",
    "                    lettersToMatch += 1\n",
    "\n",
    "        if lettersToMatch == 0:\n",
    "            result.append(i - len(p) + 1)\n",
    "        \n",
    "    return result"
   ]
  },
  {
   "cell_type": "code",
   "execution_count": 5,
   "id": "a513808b",
   "metadata": {},
   "outputs": [
    {
     "data": {
      "text/plain": [
       "[0, 6]"
      ]
     },
     "execution_count": 5,
     "metadata": {},
     "output_type": "execute_result"
    }
   ],
   "source": [
    "s = \"cbaebabacd\"\n",
    "p = \"abc\"\n",
    "findAnagrams2(s,p)"
   ]
  },
  {
   "cell_type": "code",
   "execution_count": 6,
   "id": "79fe40c7",
   "metadata": {},
   "outputs": [
    {
     "data": {
      "text/plain": [
       "[0, 1, 2]"
      ]
     },
     "execution_count": 6,
     "metadata": {},
     "output_type": "execute_result"
    }
   ],
   "source": [
    "s = \"abab\"\n",
    "p = \"ab\"\n",
    "findAnagrams2(s, p)"
   ]
  }
 ],
 "metadata": {
  "kernelspec": {
   "display_name": "Python 3 (ipykernel)",
   "language": "python",
   "name": "python3"
  },
  "language_info": {
   "codemirror_mode": {
    "name": "ipython",
    "version": 3
   },
   "file_extension": ".py",
   "mimetype": "text/x-python",
   "name": "python",
   "nbconvert_exporter": "python",
   "pygments_lexer": "ipython3",
   "version": "3.8.10"
  }
 },
 "nbformat": 4,
 "nbformat_minor": 5
}
