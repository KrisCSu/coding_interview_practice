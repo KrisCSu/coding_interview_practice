{
 "cells": [
  {
   "cell_type": "markdown",
   "metadata": {},
   "source": [
    "## Problem\n",
    "Print Immutable Linked List in Reverse\n",
    "You are given an immutable linked list, print out all values of each node in reverse with the help of the following interface:\n",
    "\n",
    "* `ImmutableListNode`: An interface of immutable linked list, you are given the head of the list.  \n",
    "\n",
    "You need to use the following functions to access the linked list (you **can't** access the ImmutableListNode directly):  \n",
    "\n",
    "* `ImmutableListNode.printValue()`: Print value of the current node.  \n",
    "* `ImmutableListNode.getNext()`: Return the next node.  \n",
    "\n",
    "The input is only given to initialize the linked list internally. You must solve this problem without modifying the linked list. In other words, you must operate the linked list using only the mentioned APIs.  "
   ]
  },
  {
   "cell_type": "markdown",
   "metadata": {},
   "source": [
    "## Examples\n",
    "Example 1:\n",
    "\n",
    "`Input: head = [1,2,3,4]\n",
    "Output: [4,3,2,1]`\n",
    "\n",
    "Example 2:\n",
    "\n",
    "`Input: head = [0,-4,-1,3,-5]\n",
    "Output: [-5,3,-1,-4,0]\n",
    "`\n",
    "\n",
    "Example 3:\n",
    "\n",
    "`Input: head = [-2,0,6,4,4,-6]\n",
    "Output: [-6,4,4,6,0,-2]`\n",
    "\n",
    "## Solution"
   ]
  },
  {
   "cell_type": "code",
   "execution_count": 1,
   "metadata": {},
   "outputs": [],
   "source": [
    "#   \"\"\"\n",
    "#   This is the ImmutableListNode's API interface.\n",
    "#   You should not implement it, or speculate about its implementation.\n",
    "#   \"\"\"\n",
    "#   class ImmutableListNode(object):\n",
    "#      def printValue(self): # print the value of this node.\n",
    "# .        \"\"\"\n",
    "#          :rtype None\n",
    "#          \"\"\"\n",
    "#\n",
    "#      def getNext(self): # return the next node.\n",
    "# .        \"\"\"\n",
    "#          :rtype ImmutableListNode\n",
    "#          \"\"\"\n",
    "\n",
    "def printLinkedListInReverse(self, head):\n",
    "    if head:\n",
    "        self.printLinkedListInReverse(head.getNext())\n",
    "        head.printValue()"
   ]
  }
 ],
 "metadata": {
  "kernelspec": {
   "display_name": "Python 3",
   "language": "python",
   "name": "python3"
  },
  "language_info": {
   "codemirror_mode": {
    "name": "ipython",
    "version": 2
   },
   "file_extension": ".py",
   "mimetype": "text/x-python",
   "name": "python",
   "nbconvert_exporter": "python",
   "pygments_lexer": "ipython2",
   "version": "2.7.17"
  }
 },
 "nbformat": 4,
 "nbformat_minor": 2
}
