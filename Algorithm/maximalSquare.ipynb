{
 "cells": [
  {
   "cell_type": "markdown",
   "metadata": {},
   "source": [
    "## Problem\n",
    "You have a 2D binary matrix that's filled with ```0s``` and ```1s```. In the matrix, find the largest square that contains only 1s and return its area.\n",
    "\n",
    "## Example\n",
    "\n",
    "For\n",
    "\n",
    "```\n",
    "matrix = [\n",
    "    ['1', '0', '1', '1', '1'],\n",
    "    ['1', '0', '1', '1', '1'],\n",
    "    ['1', '1', '1', '1', '1'],\n",
    "    ['1', '0', '0', '1', '0'],\n",
    "    ['1', '0', '0', '1', '0']\n",
    "]\n",
    "```\n",
    "the output should be\n",
    "```\n",
    "maximalSquare(matrix) = 9\n",
    "```\n",
    "\n",
    "## Solution"
   ]
  },
  {
   "cell_type": "code",
   "execution_count": 1,
   "metadata": {},
   "outputs": [],
   "source": [
    "def maximalSquare(matrix):\n",
    "    if matrix is None or len(matrix) < 1:\n",
    "        return 0\n",
    "    rows = len(matrix)\n",
    "    cols = len(matrix[0])\n",
    "    \n",
    "    df = [[0]* (cols+1) for _ in range(rows+1)]\n",
    "    \n",
    "    maximal = 0\n",
    "    for i in range(rows):\n",
    "        for j in range(cols):\n",
    "            if matrix[i][j] == '1':\n",
    "                df[i+1][j+1] = min(df[i][j], df[i+1][j], df[i][j+1]) + 1\n",
    "                maximal = max(maximal, df[i+1][j+1])\n",
    "                \n",
    "    return maximal * maximal"
   ]
  }
 ],
 "metadata": {
  "kernelspec": {
   "display_name": "Python 3",
   "language": "python",
   "name": "python3"
  },
  "language_info": {
   "codemirror_mode": {
    "name": "ipython",
    "version": 3
   },
   "file_extension": ".py",
   "mimetype": "text/x-python",
   "name": "python",
   "nbconvert_exporter": "python",
   "pygments_lexer": "ipython3",
   "version": "3.8.0"
  }
 },
 "nbformat": 4,
 "nbformat_minor": 4
}
