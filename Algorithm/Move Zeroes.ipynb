{
 "cells": [
  {
   "cell_type": "markdown",
   "metadata": {},
   "source": [
    "## Problem\n",
    "Given an array `nums`, write a function to move all `0`'s to the end of it while maintaining the relative order of the non-zero elements.\n",
    "\n",
    "Example:\n",
    "```\n",
    "Input: [0,1,0,3,12]\n",
    "Output: [1,3,12,0,0]\n",
    "```\n",
    "Note:\n",
    "\n",
    "You must do this in-place without making a copy of the array.\n",
    "Minimize the total number of operations.\n",
    "\n",
    "## Solution"
   ]
  },
  {
   "cell_type": "code",
   "execution_count": 1,
   "metadata": {},
   "outputs": [],
   "source": [
    "def moveZeros(arr):\n",
    "    '''\n",
    "    Assume array is not empty\n",
    "    '''\n",
    "    zero_idx = 0\n",
    "    for i in range(len(arr)):\n",
    "        if arr[i]:\n",
    "            arr[zero_idx], arr[i] = arr[i], arr[zero_idx]\n",
    "            zero_idx += 1"
   ]
  }
 ],
 "metadata": {
  "kernelspec": {
   "display_name": "Python 3",
   "language": "python",
   "name": "python3"
  },
  "language_info": {
   "codemirror_mode": {
    "name": "ipython",
    "version": 3
   },
   "file_extension": ".py",
   "mimetype": "text/x-python",
   "name": "python",
   "nbconvert_exporter": "python",
   "pygments_lexer": "ipython3",
   "version": "3.8.0"
  }
 },
 "nbformat": 4,
 "nbformat_minor": 4
}
