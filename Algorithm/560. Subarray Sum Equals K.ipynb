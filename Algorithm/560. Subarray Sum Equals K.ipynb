{
 "cells": [
  {
   "cell_type": "markdown",
   "id": "f7fa6c10",
   "metadata": {},
   "source": [
    "## 560. Subarray Sum Equals K\n",
    "\n",
    "Given an array of integers `nums` and an integer `k`, return the total number of continuous subarrays whose sum equals to `k`.\n",
    "\n",
    " \n",
    "\n",
    "**Example 1:**\n",
    "\n",
    "Input: nums = [1,1,1], k = 2  \n",
    "Output: 2\n",
    "\n",
    "**Example 2:**\n",
    "\n",
    "Input: nums = [1,2,3], k = 3  \n",
    "Output: 2"
   ]
  },
  {
   "cell_type": "code",
   "execution_count": 1,
   "id": "a21b582d",
   "metadata": {},
   "outputs": [],
   "source": [
    "def subarraySum(nums, k):\n",
    "    count = current_sum = 0\n",
    "    sum_table = {0:1}\n",
    "    \n",
    "    for num in nums:\n",
    "        current_sum += num\n",
    "        if current_sum - k in sum_table:\n",
    "            count += sum_table[current_sum - k]\n",
    "        if current_sum in sum_table:\n",
    "            sum_table[current_sum] += 1\n",
    "        else:\n",
    "            sum_table[current_sum] = 1\n",
    "    return count"
   ]
  },
  {
   "cell_type": "code",
   "execution_count": 2,
   "id": "05ee6021",
   "metadata": {},
   "outputs": [
    {
     "data": {
      "text/plain": [
       "2"
      ]
     },
     "execution_count": 2,
     "metadata": {},
     "output_type": "execute_result"
    }
   ],
   "source": [
    "nums = [1,1,1]\n",
    "k = 2\n",
    "subarraySum(nums, k)"
   ]
  }
 ],
 "metadata": {
  "kernelspec": {
   "display_name": "Python 3 (ipykernel)",
   "language": "python",
   "name": "python3"
  },
  "language_info": {
   "codemirror_mode": {
    "name": "ipython",
    "version": 3
   },
   "file_extension": ".py",
   "mimetype": "text/x-python",
   "name": "python",
   "nbconvert_exporter": "python",
   "pygments_lexer": "ipython3",
   "version": "3.9.7"
  }
 },
 "nbformat": 4,
 "nbformat_minor": 5
}
