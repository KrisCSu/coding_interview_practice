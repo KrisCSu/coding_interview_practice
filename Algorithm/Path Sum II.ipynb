{
 "cells": [
  {
   "cell_type": "markdown",
   "metadata": {},
   "source": [
    "## Problem\n",
    "\n",
    "Given the `root` of a binary tree and an integer `targetSum`, return all **root-to-leaf** paths where each path's sum equals `targetSum`.\n",
    "\n",
    "A **leaf** is a node with no children."
   ]
  },
  {
   "cell_type": "markdown",
   "metadata": {},
   "source": [
    "## Example\n",
    "\n",
    "![image](image/img2.jpg)\n",
    "\n",
    "\n",
    "`Input: root = [5,4,8,11,null,13,4,7,2,null,null,5,1], targetSum = 22`\n",
    "\n",
    "\n",
    "`Output: [[5,4,11,2],[5,8,4,5]]`\n",
    "\n",
    "## Solution"
   ]
  },
  {
   "cell_type": "code",
   "execution_count": 1,
   "metadata": {},
   "outputs": [],
   "source": [
    "# Definition for a binary tree node.\n",
    "# class TreeNode(object):\n",
    "#     def __init__(self, val=0, left=None, right=None):\n",
    "#         self.val = val\n",
    "#         self.left = left\n",
    "#         self.right = right\n",
    "\n",
    "def solution(root, targetSum):\n",
    "    ans_list = []\n",
    "    recursion(root, targetSum, [], ans_list)\n",
    "    return ans_list\n",
    "    \n",
    "def recursion(node, targetSum, node_list, ans_list):\n",
    "    if not node:\n",
    "        return\n",
    "    \n",
    "    node_list.append(node.val)\n",
    "    if targetSum == node.val and not node.left and not node.right:\n",
    "        ans_list.append(list(node_list))\n",
    "    else:\n",
    "        recursion(node.left, targetSum-node.val, node_list, ans_list)\n",
    "        recursion(node.right, targetSum-node.val, node_list, ans_list)\n",
    "    node_list.pop()"
   ]
  }
 ],
 "metadata": {
  "kernelspec": {
   "display_name": "Python 3",
   "language": "python",
   "name": "python3"
  },
  "language_info": {
   "codemirror_mode": {
    "name": "ipython",
    "version": 2
   },
   "file_extension": ".py",
   "mimetype": "text/x-python",
   "name": "python",
   "nbconvert_exporter": "python",
   "pygments_lexer": "ipython2",
   "version": "2.7.17"
  }
 },
 "nbformat": 4,
 "nbformat_minor": 2
}
