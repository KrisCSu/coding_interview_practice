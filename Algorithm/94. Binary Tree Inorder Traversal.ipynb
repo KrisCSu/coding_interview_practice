{
 "cells": [
  {
   "cell_type": "markdown",
   "id": "36819268",
   "metadata": {},
   "source": [
    "## Problem\n",
    "Given the `root` of a binary tree, return the inorder traversal of its nodes' values.\n",
    "\n",
    "## Examples\n",
    "**Example 1:**  \n",
    "Input: root = [1,null,2,3]  \n",
    "Output: [1,3,2]  \n",
    "\n",
    "**Example 2:**\n",
    "\n",
    "Input: root = []  \n",
    "Output: []  \n",
    "\n",
    "**Example 3:**\n",
    "\n",
    "Input: root = [1]  \n",
    "Output: [1]\n",
    "\n",
    "## Solution"
   ]
  },
  {
   "cell_type": "code",
   "execution_count": 1,
   "id": "43beb892",
   "metadata": {},
   "outputs": [],
   "source": [
    "class TreeNode:\n",
    "    def __init__(self, val=0, left=None, right=None):\n",
    "        self.val = val\n",
    "        self.left = left\n",
    "        self.right = right"
   ]
  },
  {
   "cell_type": "code",
   "execution_count": 2,
   "id": "6a9a6a0b",
   "metadata": {},
   "outputs": [],
   "source": [
    "def inorderTraversal1(root):\n",
    "    def helper(root, res):\n",
    "        if root.left:\n",
    "            helper(root.left, res)\n",
    "        res.append(root.val)\n",
    "        if root.right:\n",
    "            helper(root.right, res)\n",
    "        \n",
    "    res = []\n",
    "    helper(root, res)\n",
    "    return res"
   ]
  },
  {
   "cell_type": "code",
   "execution_count": 3,
   "id": "1d7b89a1",
   "metadata": {},
   "outputs": [],
   "source": [
    "root = TreeNode(1)\n",
    "node1 = TreeNode(2)\n",
    "node2 = TreeNode(3)\n",
    "\n",
    "root.right = node1\n",
    "node1.left = node2"
   ]
  },
  {
   "cell_type": "code",
   "execution_count": 4,
   "id": "3251d944",
   "metadata": {},
   "outputs": [
    {
     "data": {
      "text/plain": [
       "[1, 3, 2]"
      ]
     },
     "execution_count": 4,
     "metadata": {},
     "output_type": "execute_result"
    }
   ],
   "source": [
    "inorderTraversal1(root)"
   ]
  },
  {
   "cell_type": "code",
   "execution_count": 5,
   "id": "9046010a",
   "metadata": {},
   "outputs": [],
   "source": [
    "def inorderTraversal2(root):\n",
    "    if not root:\n",
    "        return []\n",
    "    return inorderTraversal2(root.left) + [root.val] + inorderTraversal2(root.right)"
   ]
  },
  {
   "cell_type": "code",
   "execution_count": 6,
   "id": "d760e7bf",
   "metadata": {},
   "outputs": [
    {
     "data": {
      "text/plain": [
       "[1, 3, 2]"
      ]
     },
     "execution_count": 6,
     "metadata": {},
     "output_type": "execute_result"
    }
   ],
   "source": [
    "inorderTraversal2(root)"
   ]
  }
 ],
 "metadata": {
  "kernelspec": {
   "display_name": "Python 3",
   "language": "python",
   "name": "python3"
  },
  "language_info": {
   "codemirror_mode": {
    "name": "ipython",
    "version": 3
   },
   "file_extension": ".py",
   "mimetype": "text/x-python",
   "name": "python",
   "nbconvert_exporter": "python",
   "pygments_lexer": "ipython3",
   "version": "3.8.0"
  }
 },
 "nbformat": 4,
 "nbformat_minor": 5
}
