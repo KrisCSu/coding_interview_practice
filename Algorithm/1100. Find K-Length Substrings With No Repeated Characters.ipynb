{
 "cells": [
  {
   "cell_type": "markdown",
   "id": "38c2a741",
   "metadata": {},
   "source": [
    "## 1100. Find K-Length Substrings With No Repeated Characters\n",
    "\n",
    "Given a string `s` and an integer `k`, return the number of substrings in `s` of length `k` with no repeated characters.\n",
    "\n",
    " \n",
    "\n",
    "**Example 1:**\n",
    "\n",
    "Input: s = \"havefunonleetcode\", k = 5  \n",
    "Output: 6  \n",
    "Explanation: There are 6 substrings they are: 'havef','avefu','vefun','efuno','etcod','tcode'.  \n",
    "\n",
    "**Example 2:**\n",
    "\n",
    "Input: s = \"home\", k = 5  \n",
    "Output: 0  \n",
    "Explanation: Notice k can be larger than the length of s. In this case, it is not possible to find any substring.  "
   ]
  },
  {
   "cell_type": "code",
   "execution_count": 1,
   "id": "85553928",
   "metadata": {},
   "outputs": [],
   "source": [
    "def numKLenSubstrNoRepeats(s, k):\n",
    "    if k > len(s):\n",
    "        return 0\n",
    "    count, index = 0, 0\n",
    "    while index != len(s)-k+1:\n",
    "        copy = set(s[index:index+k])\n",
    "        if len(copy) == k:\n",
    "            count += 1\n",
    "        index += 1\n",
    "    return count"
   ]
  },
  {
   "cell_type": "code",
   "execution_count": 2,
   "id": "5747ba52",
   "metadata": {},
   "outputs": [
    {
     "data": {
      "text/plain": [
       "6"
      ]
     },
     "execution_count": 2,
     "metadata": {},
     "output_type": "execute_result"
    }
   ],
   "source": [
    "s = \"havefunonleetcode\"\n",
    "k = 5\n",
    "numKLenSubstrNoRepeats(s, k)"
   ]
  }
 ],
 "metadata": {
  "kernelspec": {
   "display_name": "Python 3 (ipykernel)",
   "language": "python",
   "name": "python3"
  },
  "language_info": {
   "codemirror_mode": {
    "name": "ipython",
    "version": 3
   },
   "file_extension": ".py",
   "mimetype": "text/x-python",
   "name": "python",
   "nbconvert_exporter": "python",
   "pygments_lexer": "ipython3",
   "version": "3.9.7"
  }
 },
 "nbformat": 4,
 "nbformat_minor": 5
}
