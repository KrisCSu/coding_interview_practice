{
 "cells": [
  {
   "cell_type": "markdown",
   "id": "a02cfdfb",
   "metadata": {},
   "source": [
    "## 61. Rotate List\n",
    "\n",
    "Given the `head` of a linked list, rotate the list to the right by `k` places.\n",
    "\n",
    " \n",
    "\n",
    "**Example 1:**\n",
    "\n",
    "![image](image/61_1.jpg)\n",
    "```\n",
    "Input: head = [1,2,3,4,5], k = 2  \n",
    "Output: [4,5,1,2,3]\n",
    "```\n",
    "**Example 2:**\n",
    "\n",
    "![image](image/61_2.jpg)\n",
    "```\n",
    "Input: head = [0,1,2], k = 4  \n",
    "Output: [2,0,1]  \n",
    "```"
   ]
  },
  {
   "cell_type": "code",
   "execution_count": 1,
   "id": "d56889e3",
   "metadata": {},
   "outputs": [],
   "source": [
    "def rotateRight(head, k):\n",
    "    if k == 0:\n",
    "        return head\n",
    "    if not head:\n",
    "        return None\n",
    "    if not head.next:\n",
    "        return head\n",
    "    \n",
    "    old_tail, n = head, 1\n",
    "    \n",
    "    while old_tail.next:\n",
    "        old_tail = old_tail.next\n",
    "        n += 1\n",
    "    old_tail.next = head\n",
    "    \n",
    "    new_tail = head\n",
    "    for i in range(n - k%n - 1):\n",
    "        new_tail = new_tail.next\n",
    "    new_head = new_tail.next\n",
    "    \n",
    "    new_tail.next = None\n",
    "    \n",
    "    return new_head"
   ]
  },
  {
   "cell_type": "markdown",
   "id": "bca07b6e",
   "metadata": {},
   "source": [
    "Similar to LC 189 [rotate array](https://leetcode.com/problems/rotate-array/).  \n",
    "\n",
    "Cyclic Replacement is the key."
   ]
  }
 ],
 "metadata": {
  "kernelspec": {
   "display_name": "Python 3",
   "language": "python",
   "name": "python3"
  },
  "language_info": {
   "codemirror_mode": {
    "name": "ipython",
    "version": 3
   },
   "file_extension": ".py",
   "mimetype": "text/x-python",
   "name": "python",
   "nbconvert_exporter": "python",
   "pygments_lexer": "ipython3",
   "version": "3.8.0"
  }
 },
 "nbformat": 4,
 "nbformat_minor": 5
}
