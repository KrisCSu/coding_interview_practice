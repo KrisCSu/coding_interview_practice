{
 "cells": [
  {
   "cell_type": "markdown",
   "id": "1b202d3d",
   "metadata": {},
   "source": [
    "## 1101. The Earliest Moment When Everyone Become Friends\n",
    "\n",
    "There are n people in a social group labeled from 0 to n - 1. You are given an array logs where logs[i] = [timestampi, xi, yi] indicates that xi and yi will be friends at the time timestampi.\n",
    "\n",
    "Friendship is symmetric. That means if a is friends with b, then b is friends with a. Also, person a is acquainted with a person b if a is friends with b, or a is a friend of someone acquainted with b.\n",
    "\n",
    "Return the earliest time for which every person became acquainted with every other person. If there is no such earliest time, return -1.\n",
    "\n",
    " \n",
    "\n",
    "**Example 1:**\n",
    "\n",
    "Input: logs = [[20190101,0,1], [20190104,3,4], [20190107,2,3], [20190211,1,5], [20190224,2,4], [20190301,0,3], [20190312,1,2], [20190322,4,5]], n = 6  \n",
    "Output: 20190301  \n",
    "\n",
    "Explanation:   \n",
    "The first event occurs at timestamp = 20190101 and after 0 and 1 become friends we have the following friendship groups [0,1], [2], [3], [4], [5].  \n",
    "The second event occurs at timestamp = 20190104 and after 3 and 4 become friends we have the following friendship groups [0,1], [2], [3,4], [5].  \n",
    "The third event occurs at timestamp = 20190107 and after 2 and 3 become friends we have the following friendship groups [0,1], [2,3,4], [5].  \n",
    "The fourth event occurs at timestamp = 20190211 and after 1 and 5 become friends we have the following friendship groups [0,1,5], [2,3,4].  \n",
    "The fifth event occurs at timestamp = 20190224 and as 2 and 4 are already friends anything happens.  \n",
    "The sixth event occurs at timestamp = 20190301 and after 0 and 3 become friends we have that all become friends.\n",
    "\n",
    "\n",
    "**Example 2:**\n",
    "\n",
    "Input: logs = [[0,2,0], [1,0,1], [3,0,3], [4,1,2], [7,3,1]], n = 4  \n",
    "Output: 3"
   ]
  },
  {
   "cell_type": "code",
   "execution_count": 1,
   "id": "29fdb4a8",
   "metadata": {},
   "outputs": [],
   "source": [
    "class UnionFind:\n",
    "    def __init__(self, size):\n",
    "        self.group = [group_id for group_id in range(size)]\n",
    "        self.rank = [0]*size\n",
    "        \n",
    "    def find(self, person):\n",
    "        if self.group[person] != person:\n",
    "            self.group[person] = self.find(self.group[person])\n",
    "        return self.group[person]\n",
    "    \n",
    "    def union(self, a, b):\n",
    "        group_a = self.find(a)\n",
    "        group_b = self.find(b)\n",
    "        is_merged = False\n",
    "        \n",
    "        if group_a == group_b:\n",
    "            return is_merged\n",
    "        \n",
    "        is_merged = True\n",
    "        if self.rank[group_a] > self.rank[group_b]:\n",
    "            self.group[group_b] = group_a\n",
    "        elif self.rank[group_a] < self.rank[group_b]:\n",
    "            self.group[group_a] = group_b\n",
    "        else:\n",
    "            self.group[group_a] = group_b\n",
    "            self.rank[group_b] += 1\n",
    "        return is_merged\n",
    "    \n",
    "def earliestAcq(logs, n):\n",
    "    logs.sort(key = lambda x:x[0])\n",
    "    uf = UnionFind(n)\n",
    "    count = n\n",
    "    \n",
    "    for time_stamp, a, b in logs:\n",
    "        if uf.union(a, b):\n",
    "            count -= 1\n",
    "        if count == 1:\n",
    "            return time_stamp\n",
    "    return -1"
   ]
  },
  {
   "cell_type": "code",
   "execution_count": 2,
   "id": "cd6e882a",
   "metadata": {},
   "outputs": [
    {
     "data": {
      "text/plain": [
       "20190301"
      ]
     },
     "execution_count": 2,
     "metadata": {},
     "output_type": "execute_result"
    }
   ],
   "source": [
    "logs = [[20190101,0,1], [20190104,3,4], [20190107,2,3], [20190211,1,5], \n",
    "        [20190224,2,4], [20190301,0,3], [20190312,1,2], [20190322,4,5]]\n",
    "n = 6\n",
    "earliestAcq(logs, n)"
   ]
  }
 ],
 "metadata": {
  "kernelspec": {
   "display_name": "Python 3",
   "language": "python",
   "name": "python3"
  },
  "language_info": {
   "codemirror_mode": {
    "name": "ipython",
    "version": 3
   },
   "file_extension": ".py",
   "mimetype": "text/x-python",
   "name": "python",
   "nbconvert_exporter": "python",
   "pygments_lexer": "ipython3",
   "version": "3.8.0"
  }
 },
 "nbformat": 4,
 "nbformat_minor": 5
}
