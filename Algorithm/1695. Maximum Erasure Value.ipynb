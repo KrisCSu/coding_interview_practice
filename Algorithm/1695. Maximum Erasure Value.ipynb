{
 "cells": [
  {
   "cell_type": "markdown",
   "id": "786b102e",
   "metadata": {},
   "source": [
    "You are given an array of positive integers nums and want to erase a subarray containing **unique elements**. The **score** you get by erasing the subarray is equal to the **sum** of its elements.\n",
    "\n",
    "Return the *maximum score* you can get by erasing *exactly one* subarray.\n",
    "\n",
    "An array b is called to be a subarray of a if it forms a contiguous subsequence of a, that is, if it is equal to a[l],a[l+1],...,a[r] for some (l,r).\n",
    "\n",
    " \n",
    "\n",
    "**Example 1:**\n",
    "\n",
    "Input: nums = [4,2,4,5,6]\n",
    "Output: 17\n",
    "Explanation: The optimal subarray here is [2,4,5,6].\n",
    "\n",
    "**Example 2:**\n",
    "\n",
    "Input: nums = [5,2,1,2,5,2,1,2,5]\n",
    "Output: 8\n",
    "Explanation: The optimal subarray here is [5,2,1] or [1,2,5]."
   ]
  },
  {
   "cell_type": "code",
   "execution_count": 1,
   "id": "4f3d34ae",
   "metadata": {},
   "outputs": [],
   "source": [
    "def maximumUniqueSubarray(nums):\n",
    "    result, current = 0, 0\n",
    "    s = set()\n",
    "    start = 0\n",
    "    for end in range(len(nums)):\n",
    "        while nums[end] in s:\n",
    "            s.remove(nums[start])\n",
    "            current -= nums[start]\n",
    "            start += 1\n",
    "        current += nums[end]\n",
    "        s.add(nums[end])\n",
    "        \n",
    "        result = max(current, result)\n",
    "    return result"
   ]
  },
  {
   "cell_type": "code",
   "execution_count": 2,
   "id": "a1071db1",
   "metadata": {},
   "outputs": [
    {
     "data": {
      "text/plain": [
       "17"
      ]
     },
     "execution_count": 2,
     "metadata": {},
     "output_type": "execute_result"
    }
   ],
   "source": [
    "nums = [4,2,4,5,6]\n",
    "maximumUniqueSubarray(nums)"
   ]
  },
  {
   "cell_type": "code",
   "execution_count": 3,
   "id": "41466e33",
   "metadata": {},
   "outputs": [
    {
     "data": {
      "text/plain": [
       "8"
      ]
     },
     "execution_count": 3,
     "metadata": {},
     "output_type": "execute_result"
    }
   ],
   "source": [
    "nums = [5,2,1,2,5,2,1,2,5]\n",
    "maximumUniqueSubarray(nums)"
   ]
  }
 ],
 "metadata": {
  "kernelspec": {
   "display_name": "Python 3 (ipykernel)",
   "language": "python",
   "name": "python3"
  },
  "language_info": {
   "codemirror_mode": {
    "name": "ipython",
    "version": 3
   },
   "file_extension": ".py",
   "mimetype": "text/x-python",
   "name": "python",
   "nbconvert_exporter": "python",
   "pygments_lexer": "ipython3",
   "version": "3.8.10"
  }
 },
 "nbformat": 4,
 "nbformat_minor": 5
}
