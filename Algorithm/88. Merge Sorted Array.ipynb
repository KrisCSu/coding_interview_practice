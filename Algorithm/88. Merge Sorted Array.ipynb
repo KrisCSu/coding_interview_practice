{
 "cells": [
  {
   "cell_type": "markdown",
   "id": "972f78ed",
   "metadata": {},
   "source": [
    "## 88. Merge Sorted Array\n",
    "\n",
    "You are given two integer arrays `nums1` and `nums2`, sorted in **non-decreasing order**, and two integers `m` and `n`, representing the number of elements in `nums1` and `nums2` respectively.\n",
    "\n",
    "**Merge** nums1 and nums2 into a single array sorted in **non-decreasing order**.\n",
    "\n",
    "The final sorted array should not be returned by the function, but instead be stored inside the array `nums1`. To accommodate this, `nums1` has a length of `m + n`, where the first `m` elements denote the elements that should be merged, and the last `n` elements are set to `0` and should be ignored. nums2 has a length of `n`.\n",
    "\n",
    " \n",
    "\n",
    "**Example 1:**\n",
    "```\n",
    "Input: nums1 = [1,2,3,0,0,0], m = 3, nums2 = [2,5,6], n = 3  \n",
    "Output: [1,2,2,3,5,6]  \n",
    "Explanation: The arrays we are merging are [1,2,3] and [2,5,6].  \n",
    "The result of the merge is [1,2,2,3,5,6] with the underlined elements coming from nums1.  \n",
    "```\n",
    "**Example 2:**\n",
    "```\n",
    "Input: nums1 = [1], m = 1, nums2 = [], n = 0\n",
    "Output: [1]\n",
    "Explanation: The arrays we are merging are [1] and [].\n",
    "The result of the merge is [1].\n",
    "```\n",
    "**Example 3:**\n",
    "```\n",
    "Input: nums1 = [0], m = 0, nums2 = [1], n = 1\n",
    "Output: [1]\n",
    "Explanation: The arrays we are merging are [] and [1].\n",
    "The result of the merge is [1].\n",
    "Note that because m = 0, there are no elements in nums1. The 0 is only there to ensure the merge result can fit in nums1.\n",
    "```"
   ]
  },
  {
   "cell_type": "code",
   "execution_count": 1,
   "id": "5b87176f",
   "metadata": {},
   "outputs": [],
   "source": [
    "def merge(nums1, m, nums2, n):\n",
    "    nums1[:] = sorted(nums1[:m] + nums2[:n])\n",
    "\n",
    "# I guess using sorted function is not a welcomed solution in interviews"
   ]
  },
  {
   "cell_type": "code",
   "execution_count": 2,
   "id": "66ac972d",
   "metadata": {},
   "outputs": [
    {
     "data": {
      "text/plain": [
       "[1, 2, 2, 3, 5, 6]"
      ]
     },
     "execution_count": 2,
     "metadata": {},
     "output_type": "execute_result"
    }
   ],
   "source": [
    "nums1 = [1,2,3,0,0,0]\n",
    "m = 3\n",
    "nums2 = [2,5,6]\n",
    "n = 3\n",
    "merge(nums1, m, nums2, n)\n",
    "nums1"
   ]
  },
  {
   "cell_type": "code",
   "execution_count": 3,
   "id": "f6bd9e7c",
   "metadata": {},
   "outputs": [],
   "source": [
    "def merge(nums1, m, nums2, n):\n",
    "    copy_nums1 = nums1[:m]\n",
    "    index1, index2 = 0, 0\n",
    "    \n",
    "    for i in range(m + n):\n",
    "        if index1 < m and index2 < n:\n",
    "            if copy_nums1[index1] < nums2[index2]:\n",
    "                nums1[i] = copy_nums1[index1]\n",
    "                index1 += 1\n",
    "            else:\n",
    "                nums1[i] == nums2[index2]\n",
    "                index2 += 1\n",
    "        elif index1 == m:\n",
    "            nums1[i] = nums2[index2]\n",
    "            index2 += 1\n",
    "        elif index2 == n:\n",
    "            nums1[i] = copy_nums1[index1]\n",
    "            index1 += 1"
   ]
  },
  {
   "cell_type": "code",
   "execution_count": 4,
   "id": "114cc1fc",
   "metadata": {},
   "outputs": [
    {
     "data": {
      "text/plain": [
       "[1, 2, 2, 3, 5, 6]"
      ]
     },
     "execution_count": 4,
     "metadata": {},
     "output_type": "execute_result"
    }
   ],
   "source": [
    "nums1 = [1,2,3,0,0,0]\n",
    "m = 3\n",
    "nums2 = [2,5,6]\n",
    "n = 3\n",
    "merge(nums1, m, nums2, n)\n",
    "nums1"
   ]
  }
 ],
 "metadata": {
  "kernelspec": {
   "display_name": "Python 3 (ipykernel)",
   "language": "python",
   "name": "python3"
  },
  "language_info": {
   "codemirror_mode": {
    "name": "ipython",
    "version": 3
   },
   "file_extension": ".py",
   "mimetype": "text/x-python",
   "name": "python",
   "nbconvert_exporter": "python",
   "pygments_lexer": "ipython3",
   "version": "3.9.7"
  }
 },
 "nbformat": 4,
 "nbformat_minor": 5
}
