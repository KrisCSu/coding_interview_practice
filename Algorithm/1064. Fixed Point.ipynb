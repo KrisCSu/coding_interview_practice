{
 "cells": [
  {
   "cell_type": "markdown",
   "id": "1f7e606b",
   "metadata": {},
   "source": [
    "## 1064. Fixed Point\n",
    "\n",
    "Given an array of distinct integers `arr`, where `arr` is sorted in **ascending order**, return the smallest index `i` that satisfies `arr[i] == i`. If there is no such index, return `-1`.\n",
    "\n",
    " \n",
    "\n",
    "**Example 1:**\n",
    "\n",
    "Input: arr = [-10,-5,0,3,7]  \n",
    "Output: 3  \n",
    "Explanation: For the given array, arr[0] = -10, arr[1] = -5, arr[2] = 0, arr[3] = 3, thus the output is 3.  \n",
    "\n",
    "**Example 2:**\n",
    "\n",
    "Input: arr = [0,2,5,8,17]  \n",
    "Output: 0  \n",
    "Explanation: arr[0] = 0, thus the output is 0.  \n",
    "\n",
    "**Example 3:**\n",
    "\n",
    "Input: arr = [-10,-5,3,4,7,9]  \n",
    "Output: -1  \n",
    "Explanation: There is no such i that arr[i] == i, thus the output is -1."
   ]
  },
  {
   "cell_type": "code",
   "execution_count": 1,
   "id": "09646534",
   "metadata": {},
   "outputs": [],
   "source": [
    "def fixedPoint(arr):\n",
    "    for i, num in enumerate(arr):\n",
    "        if i == num:\n",
    "            return i\n",
    "    return -1"
   ]
  },
  {
   "cell_type": "code",
   "execution_count": 2,
   "id": "9ce6c05c",
   "metadata": {},
   "outputs": [
    {
     "data": {
      "text/plain": [
       "3"
      ]
     },
     "execution_count": 2,
     "metadata": {},
     "output_type": "execute_result"
    }
   ],
   "source": [
    "arr = [-10,-5,0,3,7]\n",
    "fixedPoint(arr)"
   ]
  },
  {
   "cell_type": "code",
   "execution_count": 3,
   "id": "71765e6d",
   "metadata": {},
   "outputs": [
    {
     "data": {
      "text/plain": [
       "-1"
      ]
     },
     "execution_count": 3,
     "metadata": {},
     "output_type": "execute_result"
    }
   ],
   "source": [
    "arr = [-10,-5,3,4,7,9]\n",
    "fixedPoint(arr)"
   ]
  }
 ],
 "metadata": {
  "kernelspec": {
   "display_name": "Python 3 (ipykernel)",
   "language": "python",
   "name": "python3"
  },
  "language_info": {
   "codemirror_mode": {
    "name": "ipython",
    "version": 3
   },
   "file_extension": ".py",
   "mimetype": "text/x-python",
   "name": "python",
   "nbconvert_exporter": "python",
   "pygments_lexer": "ipython3",
   "version": "3.9.7"
  }
 },
 "nbformat": 4,
 "nbformat_minor": 5
}
