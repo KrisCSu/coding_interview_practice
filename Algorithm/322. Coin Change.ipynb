{
 "cells": [
  {
   "cell_type": "markdown",
   "source": [
    "## 322. Coin Change\n",
    "\n",
    "You are given an integer array `coins` representing coins of different denominations and an integer amount representing a total `amount` of money.\n",
    "\n",
    "Return the fewest number of coins that you need to make up that amount. If that amount of money cannot be made up by any combination of the coins, return `-1`.\n",
    "\n",
    "You may assume that you have an infinite number of each kind of coin.\n",
    "\n",
    "*Example 1:*\n",
    "\n",
    "Input: coins = [1,2,5], amount = 11\n",
    "Output: 3\n",
    "Explanation: 11 = 5 + 5 + 1\n",
    "\n",
    "*Example 2:*\n",
    "\n",
    "Input: coins = [2], amount = 3\n",
    "Output: -1\n",
    "\n",
    "*Example 3:*\n",
    "\n",
    "Input: coins = [1], amount = 0\n",
    "Output: 0"
   ],
   "metadata": {
    "collapsed": false
   }
  },
  {
   "cell_type": "code",
   "execution_count": 1,
   "outputs": [],
   "source": [
    "def coinChange(coins, amount):\n",
    "    dp = [amount+1] * (amount+1)\n",
    "    dp[0] = 0\n",
    "    for a in range(1, amount+1):\n",
    "        for c in coins:\n",
    "            if a - c >=0:\n",
    "                dp[a] = min(dp[a], dp[a-c]+1)\n",
    "    if dp[amount] != amount + 1:\n",
    "        return dp[amount]\n",
    "    else: -1"
   ],
   "metadata": {
    "collapsed": false,
    "ExecuteTime": {
     "end_time": "2023-07-15T20:16:16.168415Z",
     "start_time": "2023-07-15T20:16:16.164506Z"
    }
   }
  },
  {
   "cell_type": "code",
   "execution_count": 2,
   "outputs": [
    {
     "data": {
      "text/plain": "3"
     },
     "execution_count": 2,
     "metadata": {},
     "output_type": "execute_result"
    }
   ],
   "source": [
    "coins = [1,2,5]\n",
    "amount = 11\n",
    "coinChange(coins, amount)"
   ],
   "metadata": {
    "collapsed": false,
    "ExecuteTime": {
     "end_time": "2023-07-15T20:16:16.181584Z",
     "start_time": "2023-07-15T20:16:16.177370Z"
    }
   }
  }
 ],
 "metadata": {
  "kernelspec": {
   "display_name": "Python 3",
   "language": "python",
   "name": "python3"
  },
  "language_info": {
   "codemirror_mode": {
    "name": "ipython",
    "version": 2
   },
   "file_extension": ".py",
   "mimetype": "text/x-python",
   "name": "python",
   "nbconvert_exporter": "python",
   "pygments_lexer": "ipython2",
   "version": "2.7.6"
  }
 },
 "nbformat": 4,
 "nbformat_minor": 0
}
