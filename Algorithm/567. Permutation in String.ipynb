{
 "cells": [
  {
   "cell_type": "markdown",
   "id": "0b3a043d",
   "metadata": {},
   "source": [
    "## 567. Permutation in String\n",
    "\n",
    "Given two strings `s1` and `s2`, return `true` if `s2` contains a permutation of `s1`, or false otherwise.\n",
    "\n",
    "In other words, return true if one of `s1`'s permutations is the substring of `s2`.\n",
    "\n",
    "\n",
    "**Example 1:**\n",
    "\n",
    "Input: s1 = \"ab\", s2 = \"eidbaooo\"  \n",
    "Output: true  \n",
    "Explanation: s2 contains one permutation of s1 (\"ba\").  \n",
    "\n",
    "**Example 2:**  \n",
    "\n",
    "Input: s1 = \"ab\", s2 = \"eidboaoo\"  \n",
    "Output: false  "
   ]
  },
  {
   "cell_type": "code",
   "execution_count": 1,
   "id": "cfa801df",
   "metadata": {},
   "outputs": [],
   "source": [
    "from collections import Counter\n",
    "\n",
    "## this solution would cause TLE\n",
    "def checkInclusion(s1, s2):\n",
    "    if len(s1) > len(s2):\n",
    "        return False\n",
    "    window = len(s1)\n",
    "    s1map = Counter(s1)\n",
    "    \n",
    "    for i in range(len(s2)-window+1):\n",
    "        s2map = Counter(s2[i:i+window])\n",
    "        if s1map == s2map:\n",
    "            return True\n",
    "    return False"
   ]
  },
  {
   "cell_type": "code",
   "execution_count": 2,
   "id": "6a0f3f5a",
   "metadata": {},
   "outputs": [
    {
     "data": {
      "text/plain": [
       "True"
      ]
     },
     "execution_count": 2,
     "metadata": {},
     "output_type": "execute_result"
    }
   ],
   "source": [
    "s1 = \"ab\"\n",
    "s2 = \"eidbaooo\"\n",
    "checkInclusion(s1,s2)"
   ]
  },
  {
   "cell_type": "code",
   "execution_count": 3,
   "id": "01054394",
   "metadata": {},
   "outputs": [
    {
     "data": {
      "text/plain": [
       "False"
      ]
     },
     "execution_count": 3,
     "metadata": {},
     "output_type": "execute_result"
    }
   ],
   "source": [
    "s1 = \"ab\"\n",
    "s2 = \"eidboaoo\"\n",
    "checkInclusion(s1, s2)"
   ]
  },
  {
   "cell_type": "code",
   "execution_count": 4,
   "id": "ee933bb5",
   "metadata": {},
   "outputs": [],
   "source": [
    "def checkInclusion(s1, s2):\n",
    "    if len(s1) > len(s2):\n",
    "        return False\n",
    "    s1map = [0]*26\n",
    "    s2map = [0]*26\n",
    "    \n",
    "    for letter in s1:\n",
    "        s1map[ord(letter) - ord('a')] += 1\n",
    "    for i in range(len(s2)):\n",
    "        s2map[ord(s2[i])-ord('a')] += 1\n",
    "        if i >= len(s1) - 1:\n",
    "            if s1map == s2map:\n",
    "                return True\n",
    "            s2map[ord(s2[i-len(s1)+1]) - ord('a')] -= 1\n",
    "    return False"
   ]
  },
  {
   "cell_type": "code",
   "execution_count": 5,
   "id": "52002d40",
   "metadata": {},
   "outputs": [
    {
     "data": {
      "text/plain": [
       "True"
      ]
     },
     "execution_count": 5,
     "metadata": {},
     "output_type": "execute_result"
    }
   ],
   "source": [
    "s1 = \"ab\"\n",
    "s2 = \"eidbaooo\"\n",
    "checkInclusion(s1,s2)"
   ]
  },
  {
   "cell_type": "code",
   "execution_count": 6,
   "id": "5cd809b3",
   "metadata": {},
   "outputs": [
    {
     "data": {
      "text/plain": [
       "False"
      ]
     },
     "execution_count": 6,
     "metadata": {},
     "output_type": "execute_result"
    }
   ],
   "source": [
    "s1 = \"ab\"\n",
    "s2 = \"eidboaoo\"\n",
    "checkInclusion(s1, s2)"
   ]
  }
 ],
 "metadata": {
  "kernelspec": {
   "display_name": "Python 3 (ipykernel)",
   "language": "python",
   "name": "python3"
  },
  "language_info": {
   "codemirror_mode": {
    "name": "ipython",
    "version": 3
   },
   "file_extension": ".py",
   "mimetype": "text/x-python",
   "name": "python",
   "nbconvert_exporter": "python",
   "pygments_lexer": "ipython3",
   "version": "3.9.7"
  }
 },
 "nbformat": 4,
 "nbformat_minor": 5
}
