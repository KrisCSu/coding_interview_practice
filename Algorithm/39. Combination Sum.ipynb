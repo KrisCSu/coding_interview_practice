{
 "cells": [
  {
   "cell_type": "markdown",
   "id": "292a687a",
   "metadata": {},
   "source": [
    "## 39. Combination Sum\n",
    "\n",
    "Given an array of distinct integers `candidates` and a `target` integer target, return a list of all ***unique combinations*** of `candidates` where the chosen numbers sum to `target`. You may return the combinations in any order.  \n",
    "\n",
    "The same number may be chosen from `candidates` an unlimited number of times. Two combinations are unique if the frequency of at least one of the chosen numbers is different.  \n",
    "\n",
    "It is guaranteed that the number of unique combinations that sum up to `target` is less than `150` combinations for the given input.\n",
    "\n",
    " \n",
    "\n",
    "**Example 1:**\n",
    "\n",
    "Input: candidates = [2,3,6,7], target = 7  \n",
    "Output: [[2,2,3],[7]]  \n",
    "Explanation:  \n",
    "2 and 3 are candidates, and 2 + 2 + 3 = 7. Note that 2 can be used multiple times.  \n",
    "7 is a candidate, and 7 = 7.  \n",
    "These are the only two combinations.  \n",
    "\n",
    "**Example 2:**\n",
    "\n",
    "Input: candidates = [2,3,5], target = 8  \n",
    "Output: [[2,2,2,2],[2,3,3],[3,5]]  \n",
    "\n",
    "**Example 3:**\n",
    "\n",
    "Input: candidates = [2], target = 1  \n",
    "Output: []  "
   ]
  },
  {
   "cell_type": "code",
   "execution_count": 1,
   "id": "7ef6d767",
   "metadata": {},
   "outputs": [],
   "source": [
    "def combinationSum(candidates, target):\n",
    "    res = []\n",
    "    def dfs(remain, comb, start):\n",
    "        if remain == 0:\n",
    "            res.append(list(comb))\n",
    "            return\n",
    "        elif remain < 0:\n",
    "            return\n",
    "        for i in range(start, len(candidates)):\n",
    "            comb.append(candidates[i])\n",
    "            dfs(remain-candidates[i], comb, i)\n",
    "            comb.pop()\n",
    "    dfs(target, [], 0)\n",
    "    return res"
   ]
  },
  {
   "cell_type": "code",
   "execution_count": 2,
   "id": "d87e5124",
   "metadata": {},
   "outputs": [
    {
     "data": {
      "text/plain": [
       "[[2, 2, 3], [7]]"
      ]
     },
     "execution_count": 2,
     "metadata": {},
     "output_type": "execute_result"
    }
   ],
   "source": [
    "candidates = [2,3,6,7]\n",
    "target = 7\n",
    "combinationSum(candidates, target)"
   ]
  }
 ],
 "metadata": {
  "kernelspec": {
   "display_name": "Python 3 (ipykernel)",
   "language": "python",
   "name": "python3"
  },
  "language_info": {
   "codemirror_mode": {
    "name": "ipython",
    "version": 3
   },
   "file_extension": ".py",
   "mimetype": "text/x-python",
   "name": "python",
   "nbconvert_exporter": "python",
   "pygments_lexer": "ipython3",
   "version": "3.9.7"
  }
 },
 "nbformat": 4,
 "nbformat_minor": 5
}
