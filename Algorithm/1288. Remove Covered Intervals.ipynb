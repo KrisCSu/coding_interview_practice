{
 "cells": [
  {
   "cell_type": "markdown",
   "id": "1ff4e47c",
   "metadata": {},
   "source": [
    "## 1288. Remove Covered Intervals\n",
    "\n",
    "Given an array `intervals` where `intervals[i] = [li, ri]` represent the interval `[li, ri]`, remove all intervals that are covered by another interval in the list.\n",
    "\n",
    "The interval [a, b] is covered by the interval [c, d] if and only if c <= a and b <= d.\n",
    "\n",
    "Return the number of remaining intervals.\n",
    "\n",
    "**Example 1:**\n",
    "\n",
    "Input: intervals = [[1,4],[3,6],[2,8]]  \n",
    "Output: 2  \n",
    "Explanation: Interval [3,6] is covered by [2,8], therefore it is removed.  \n",
    "\n",
    "**Example 2:**\n",
    "\n",
    "Input: intervals = [[1,4],[2,3]]  \n",
    "Output: 1  "
   ]
  },
  {
   "cell_type": "code",
   "execution_count": 1,
   "id": "dc3d84db",
   "metadata": {},
   "outputs": [],
   "source": [
    "def removeCoveredIntervals(intervals):\n",
    "    intervals.sort(key = lambda x:(x[0],-x[1]))\n",
    "\n",
    "    count = 0\n",
    "    prev_right = 0\n",
    "    for _, right in intervals:\n",
    "        if right > prev_right:\n",
    "            count += 1\n",
    "            prev_right = right\n",
    "    return count"
   ]
  },
  {
   "cell_type": "code",
   "execution_count": 2,
   "id": "ee8cd080",
   "metadata": {},
   "outputs": [
    {
     "data": {
      "text/plain": [
       "2"
      ]
     },
     "execution_count": 2,
     "metadata": {},
     "output_type": "execute_result"
    }
   ],
   "source": [
    "intervals = [[1,4],[3,6],[2,8]]\n",
    "removeCoveredIntervals(intervals)"
   ]
  },
  {
   "cell_type": "code",
   "execution_count": 3,
   "id": "e8b790e3",
   "metadata": {},
   "outputs": [
    {
     "data": {
      "text/plain": [
       "1"
      ]
     },
     "execution_count": 3,
     "metadata": {},
     "output_type": "execute_result"
    }
   ],
   "source": [
    "intervals = [[1,4],[1,6],[1,3]]\n",
    "removeCoveredIntervals(intervals)"
   ]
  }
 ],
 "metadata": {
  "kernelspec": {
   "display_name": "Python 3 (ipykernel)",
   "language": "python",
   "name": "python3"
  },
  "language_info": {
   "codemirror_mode": {
    "name": "ipython",
    "version": 3
   },
   "file_extension": ".py",
   "mimetype": "text/x-python",
   "name": "python",
   "nbconvert_exporter": "python",
   "pygments_lexer": "ipython3",
   "version": "3.9.7"
  }
 },
 "nbformat": 4,
 "nbformat_minor": 5
}
