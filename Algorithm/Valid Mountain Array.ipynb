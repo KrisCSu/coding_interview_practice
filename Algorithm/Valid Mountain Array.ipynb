{
 "cells": [
  {
   "cell_type": "markdown",
   "metadata": {},
   "source": [
    "## Problem\n",
    "Given an array of integers `arr`, return `true` if and only if it is a valid mountain array.\n",
    "\n",
    "Recall that arr is a mountain array if and only if:\n",
    "\n",
    "* `arr.length >= 3`\n",
    "* There exists some `i` with `0 < i < arr.length - 1` such that:\n",
    "    * `arr[0] < arr[1] < ... < arr[i - 1] < A[i]`\n",
    "    * `arr[i] > arr[i + 1] > ... > arr[arr.length - 1]`"
   ]
  },
  {
   "cell_type": "markdown",
   "metadata": {},
   "source": [
    "![image](image/valid_mountain_array.png)"
   ]
  },
  {
   "cell_type": "markdown",
   "metadata": {},
   "source": [
    "## Example\n",
    "\n",
    "```\n",
    "Example 1:\n",
    "\n",
    "Input: arr = [2,1]\n",
    "Output: false\n",
    "Example 2:\n",
    "\n",
    "Input: arr = [3,5,5]\n",
    "Output: false\n",
    "Example 3:\n",
    "\n",
    "Input: arr = [0,3,2,1]\n",
    "Output: true\n",
    "```"
   ]
  },
  {
   "cell_type": "markdown",
   "metadata": {},
   "source": [
    "## Solution"
   ]
  },
  {
   "cell_type": "code",
   "execution_count": 1,
   "metadata": {},
   "outputs": [],
   "source": [
    "def validMountainArray(A):\n",
    "    n = len(A)\n",
    "    left = 0\n",
    "    # there is no peak if there are only 2 elements\n",
    "    if n <= 2: return False\n",
    "    \n",
    "    while left + 1 < n and A[left] < A[left + 1]:\n",
    "        left += 1\n",
    "    if left == 0 or left == n-1:\n",
    "        return False\n",
    "    while left + 1 < n and A[left] > A[left + 1]:\n",
    "        left += 1\n",
    "    return left == n-1"
   ]
  },
  {
   "cell_type": "code",
   "execution_count": 2,
   "metadata": {},
   "outputs": [],
   "source": [
    "def validMountainArray2(A):\n",
    "    n = len(A)\n",
    "    left, right = 0, n-1\n",
    "    \n",
    "    while left + 1 < n and A[left] < A[left+1]:\n",
    "        left += 1\n",
    "    while right - 1 > 0 and A[right] < A[right - 1]:\n",
    "        right -= 1\n",
    "    return 0< left == right < n-1"
   ]
  }
 ],
 "metadata": {
  "kernelspec": {
   "display_name": "Python 3",
   "language": "python",
   "name": "python3"
  },
  "language_info": {
   "codemirror_mode": {
    "name": "ipython",
    "version": 3
   },
   "file_extension": ".py",
   "mimetype": "text/x-python",
   "name": "python",
   "nbconvert_exporter": "python",
   "pygments_lexer": "ipython3",
   "version": "3.8.0"
  }
 },
 "nbformat": 4,
 "nbformat_minor": 4
}
