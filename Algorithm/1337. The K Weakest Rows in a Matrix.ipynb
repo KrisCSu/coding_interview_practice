{
 "cells": [
  {
   "cell_type": "markdown",
   "source": [
    "## 1337. The K Weakest Rows in a Matrix\n",
    "You are given an `m x n` binary matrix `mat` of `1`'s (representing soldiers) and `0`'s (representing civilians). The soldiers are positioned in front of the civilians. That is, all the `1`'s will appear to the left of all the `0`'s in each row.\n",
    "\n",
    "A row `i` is weaker than a row `j` if one of the following is true:\n",
    "\n",
    "- The number of soldiers in row `i` is less than the number of soldiers in row `j`.\n",
    "- Both rows have the same number of soldiers and `i < j`.\n",
    "Return the indices of the `k` weakest rows in the matrix ordered from weakest to strongest.\n",
    "\n",
    "### Example 1:\n",
    "Input: mat =\n",
    "[[1,1,0,0,0],\n",
    " [1,1,1,1,0],\n",
    " [1,0,0,0,0],\n",
    " [1,1,0,0,0],\n",
    " [1,1,1,1,1]],\n",
    "k = 3\n",
    "Output: [2,0,3]\n",
    "Explanation:\n",
    "The number of soldiers in each row is:\n",
    "- Row 0: 2\n",
    "- Row 1: 4\n",
    "- Row 2: 1\n",
    "- Row 3: 2\n",
    "- Row 4: 5\n",
    "\n",
    "The rows ordered from weakest to strongest are [2,0,3,1,4]."
   ],
   "metadata": {
    "collapsed": false
   }
  },
  {
   "cell_type": "code",
   "execution_count": 1,
   "outputs": [],
   "source": [
    "def kWeakestRows(mat, k):\n",
    "    strength = []\n",
    "    for i, row in enumerate(mat):\n",
    "        strength.append([row.count(1),i])\n",
    "    strength.sort()\n",
    "    index = []\n",
    "    for i in range(k):\n",
    "        index.append(strength[i][1])\n",
    "    return index"
   ],
   "metadata": {
    "collapsed": false,
    "ExecuteTime": {
     "end_time": "2023-07-12T20:05:21.166105Z",
     "start_time": "2023-07-12T20:05:21.163761Z"
    }
   }
  },
  {
   "cell_type": "code",
   "execution_count": 2,
   "outputs": [
    {
     "data": {
      "text/plain": "[2, 0, 3]"
     },
     "execution_count": 2,
     "metadata": {},
     "output_type": "execute_result"
    }
   ],
   "source": [
    "mat = [[1,1,0,0,0],\n",
    " [1,1,1,1,0],\n",
    " [1,0,0,0,0],\n",
    " [1,1,0,0,0],\n",
    " [1,1,1,1,1]]\n",
    "k = 3\n",
    "kWeakestRows(mat, k)"
   ],
   "metadata": {
    "collapsed": false,
    "ExecuteTime": {
     "end_time": "2023-07-12T20:05:38.971936Z",
     "start_time": "2023-07-12T20:05:38.964957Z"
    }
   }
  },
  {
   "cell_type": "code",
   "execution_count": 3,
   "outputs": [],
   "source": [
    "# one liner\n",
    "def kWeakestRows(mat, k):\n",
    "    return [i[1] for i in sorted([[row.count(1),i] for i,row in enumerate(mat)])[:k]]"
   ],
   "metadata": {
    "collapsed": false,
    "ExecuteTime": {
     "end_time": "2023-07-12T20:06:47.668394Z",
     "start_time": "2023-07-12T20:06:47.662106Z"
    }
   }
  },
  {
   "cell_type": "code",
   "execution_count": 4,
   "outputs": [
    {
     "data": {
      "text/plain": "[2, 0, 3]"
     },
     "execution_count": 4,
     "metadata": {},
     "output_type": "execute_result"
    }
   ],
   "source": [
    "mat = [[1,1,0,0,0],\n",
    " [1,1,1,1,0],\n",
    " [1,0,0,0,0],\n",
    " [1,1,0,0,0],\n",
    " [1,1,1,1,1]]\n",
    "k = 3\n",
    "kWeakestRows(mat, k)"
   ],
   "metadata": {
    "collapsed": false,
    "ExecuteTime": {
     "end_time": "2023-07-12T20:06:59.018438Z",
     "start_time": "2023-07-12T20:06:59.011709Z"
    }
   }
  }
 ],
 "metadata": {
  "kernelspec": {
   "display_name": "Python 3",
   "language": "python",
   "name": "python3"
  },
  "language_info": {
   "codemirror_mode": {
    "name": "ipython",
    "version": 2
   },
   "file_extension": ".py",
   "mimetype": "text/x-python",
   "name": "python",
   "nbconvert_exporter": "python",
   "pygments_lexer": "ipython2",
   "version": "2.7.6"
  }
 },
 "nbformat": 4,
 "nbformat_minor": 0
}
