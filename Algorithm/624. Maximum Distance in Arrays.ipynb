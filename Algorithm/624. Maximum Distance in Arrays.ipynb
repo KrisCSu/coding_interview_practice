{
 "cells": [
  {
   "cell_type": "markdown",
   "source": [
    "## 624. Maximum Distance in Arrays\n",
    "You are given `m` `arrays`, where each array is sorted in ascending order.\n",
    "\n",
    "You can pick up two integers from two different arrays (each array picks one) and calculate the distance. We define the distance between two integers `a` and `b` to be their absolute difference `|a - b|`.\n",
    "\n",
    "Return the maximum distance.\n",
    "\n",
    "### Example 1:\n",
    "\n",
    "Input: arrays = [[1,2,3],[4,5],[1,2,3]]\n",
    "Output: 4\n",
    "Explanation: One way to reach the maximum distance 4 is to pick 1 in the first or third array and pick 5 in the second array.\n",
    "\n",
    "### Example 2:\n",
    "\n",
    "Input: arrays = [[1],[1]]\n",
    "Output: 0"
   ],
   "metadata": {
    "collapsed": false
   }
  },
  {
   "cell_type": "code",
   "execution_count": 1,
   "outputs": [],
   "source": [
    "def maxDistance(arrays):\n",
    "    diff = float('-inf')\n",
    "    curr_min, curr_max = arrays[0][0], arrays[0][-1]\n",
    "\n",
    "    for arr in arrays[1:]:\n",
    "        diff_min = abs(curr_max - arr[0])\n",
    "        diff_max = abs(curr_min - arr[-1])\n",
    "        diff = max(diff_min, diff_max, diff)\n",
    "        if arr[0]< curr_min:\n",
    "            curr_min = arr[0]\n",
    "        if arr[-1] > curr_max:\n",
    "            curr_max = arr[-1]\n",
    "        return diff"
   ],
   "metadata": {
    "collapsed": false,
    "ExecuteTime": {
     "end_time": "2023-07-12T02:29:04.551955Z",
     "start_time": "2023-07-12T02:29:04.545565Z"
    }
   }
  },
  {
   "cell_type": "code",
   "execution_count": 2,
   "outputs": [
    {
     "data": {
      "text/plain": "4"
     },
     "execution_count": 2,
     "metadata": {},
     "output_type": "execute_result"
    }
   ],
   "source": [
    "arrays = [[1,2,3],[4,5],[1,2,3]]\n",
    "maxDistance(arrays)"
   ],
   "metadata": {
    "collapsed": false,
    "ExecuteTime": {
     "end_time": "2023-07-12T02:29:04.561288Z",
     "start_time": "2023-07-12T02:29:04.557360Z"
    }
   }
  },
  {
   "cell_type": "code",
   "execution_count": 3,
   "outputs": [
    {
     "data": {
      "text/plain": "0"
     },
     "execution_count": 3,
     "metadata": {},
     "output_type": "execute_result"
    }
   ],
   "source": [
    "arrays = [[1],[1]]\n",
    "maxDistance(arrays)"
   ],
   "metadata": {
    "collapsed": false,
    "ExecuteTime": {
     "end_time": "2023-07-12T02:29:04.567727Z",
     "start_time": "2023-07-12T02:29:04.563861Z"
    }
   }
  }
 ],
 "metadata": {
  "kernelspec": {
   "display_name": "Python 3",
   "language": "python",
   "name": "python3"
  },
  "language_info": {
   "codemirror_mode": {
    "name": "ipython",
    "version": 2
   },
   "file_extension": ".py",
   "mimetype": "text/x-python",
   "name": "python",
   "nbconvert_exporter": "python",
   "pygments_lexer": "ipython2",
   "version": "2.7.6"
  }
 },
 "nbformat": 4,
 "nbformat_minor": 0
}
