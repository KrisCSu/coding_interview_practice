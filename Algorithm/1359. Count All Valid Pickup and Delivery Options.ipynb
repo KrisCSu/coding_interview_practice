{
 "cells": [
  {
   "cell_type": "markdown",
   "id": "51fb1111",
   "metadata": {},
   "source": [
    "Given `n` orders, each order consist in pickup and delivery services. \n",
    "\n",
    "Count all valid pickup/delivery possible sequences such that delivery(i) is always after of pickup(i). \n",
    "\n",
    "Since the answer may be too large, return it modulo 10^9 + 7.\n",
    "\n",
    " \n",
    "\n",
    "**Example 1:**\n",
    "```\n",
    "Input: n = 1\n",
    "Output: 1\n",
    "Explanation: Unique order (P1, D1), Delivery 1 always is after of Pickup 1.\n",
    "```\n",
    "**Example 2:**\n",
    "```\n",
    "Input: n = 2\n",
    "Output: 6\n",
    "Explanation: All possible orders: \n",
    "(P1,P2,D1,D2), (P1,P2,D2,D1), (P1,D1,P2,D2), (P2,P1,D1,D2), (P2,P1,D2,D1) and (P2,D2,P1,D1).\n",
    "This is an invalid order (P1,D2,P2,D1) because Pickup 2 is after of Delivery 2.\n",
    "```\n",
    "**Example 3:**\n",
    "```\n",
    "Input: n = 3\n",
    "Output: 90\n",
    "```"
   ]
  },
  {
   "cell_type": "code",
   "execution_count": 1,
   "id": "3a458c08",
   "metadata": {},
   "outputs": [],
   "source": [
    "def countOrders(n):\n",
    "    '''\n",
    "    Solving it mathmatically\n",
    "    '''\n",
    "    res = 1\n",
    "    for i in range(1, n+1):\n",
    "        res *= i\n",
    "        res *= (2*i-1)\n",
    "        res %= (10**9+7)\n",
    "    return res"
   ]
  },
  {
   "cell_type": "code",
   "execution_count": 2,
   "id": "a053adf2",
   "metadata": {},
   "outputs": [
    {
     "data": {
      "text/plain": [
       "90"
      ]
     },
     "execution_count": 2,
     "metadata": {},
     "output_type": "execute_result"
    }
   ],
   "source": [
    "countOrders(3)"
   ]
  },
  {
   "cell_type": "code",
   "execution_count": 3,
   "id": "fe4b7422",
   "metadata": {},
   "outputs": [],
   "source": [
    "def countOrders(n):\n",
    "    '''\n",
    "    using recursion\n",
    "    '''\n",
    "    if n == 1:\n",
    "        return 1\n",
    "    return countOrders(n-1) * n *(2*n-1) % (10**9+7)"
   ]
  },
  {
   "cell_type": "code",
   "execution_count": 4,
   "id": "239e0453",
   "metadata": {},
   "outputs": [
    {
     "data": {
      "text/plain": [
       "6"
      ]
     },
     "execution_count": 4,
     "metadata": {},
     "output_type": "execute_result"
    }
   ],
   "source": [
    "countOrders(2)"
   ]
  },
  {
   "cell_type": "code",
   "execution_count": 5,
   "id": "6a2f25d2",
   "metadata": {},
   "outputs": [
    {
     "data": {
      "text/plain": [
       "90"
      ]
     },
     "execution_count": 5,
     "metadata": {},
     "output_type": "execute_result"
    }
   ],
   "source": [
    "countOrders(3)"
   ]
  }
 ],
 "metadata": {
  "kernelspec": {
   "display_name": "Python 3 (ipykernel)",
   "language": "python",
   "name": "python3"
  },
  "language_info": {
   "codemirror_mode": {
    "name": "ipython",
    "version": 3
   },
   "file_extension": ".py",
   "mimetype": "text/x-python",
   "name": "python",
   "nbconvert_exporter": "python",
   "pygments_lexer": "ipython3",
   "version": "3.9.7"
  }
 },
 "nbformat": 4,
 "nbformat_minor": 5
}
