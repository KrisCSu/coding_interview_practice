{
 "cells": [
  {
   "cell_type": "markdown",
   "id": "2bc24c6a",
   "metadata": {},
   "source": [
    "## 402. Remove K Digits\n",
    "\n",
    "Given string num representing a non-negative integer `num`, and an integer `k`, return the smallest possible integer after removing `k` digits from `num`.\n",
    " \n",
    "\n",
    "**Example 1:**\n",
    "\n",
    "Input: num = \"1432219\", k = 3  \n",
    "Output: \"1219\"  \n",
    "Explanation: Remove the three digits 4, 3, and 2 to form the new number 1219 which is the smallest.  \n",
    "\n",
    "**Example 2:**\n",
    "\n",
    "Input: num = \"10200\", k = 1  \n",
    "Output: \"200\"  \n",
    "Explanation: Remove the leading 1 and the number is 200. Note that the output must not contain leading zeroes.  \n",
    "\n",
    "**Example 3:**\n",
    "\n",
    "Input: num = \"10\", k = 2  \n",
    "Output: \"0\"  \n",
    "Explanation: Remove all the digits from the number and it is left with nothing which is 0.  "
   ]
  },
  {
   "cell_type": "code",
   "execution_count": 1,
   "id": "ee4b1faa",
   "metadata": {},
   "outputs": [],
   "source": [
    "def removeKdigits(num, k):\n",
    "    stack = []\n",
    "    for digit in num:\n",
    "        while k and stack and stack[-1] > digit:\n",
    "            stack.pop()\n",
    "            k -= 1\n",
    "        stack.append(digit)\n",
    "    finalStack = stack[:-k] if k else stack\n",
    "    return ''.join(finalStack).lstrip('0') or '0'"
   ]
  },
  {
   "cell_type": "code",
   "execution_count": 2,
   "id": "26c2c20a",
   "metadata": {},
   "outputs": [
    {
     "data": {
      "text/plain": [
       "'1219'"
      ]
     },
     "execution_count": 2,
     "metadata": {},
     "output_type": "execute_result"
    }
   ],
   "source": [
    "num = \"1432219\"\n",
    "k = 3\n",
    "removeKdigits(num, k)"
   ]
  },
  {
   "cell_type": "code",
   "execution_count": 3,
   "id": "ab17c125",
   "metadata": {},
   "outputs": [
    {
     "data": {
      "text/plain": [
       "'200'"
      ]
     },
     "execution_count": 3,
     "metadata": {},
     "output_type": "execute_result"
    }
   ],
   "source": [
    "num = \"10200\"\n",
    "k = 1\n",
    "removeKdigits(num, k)"
   ]
  },
  {
   "cell_type": "markdown",
   "id": "e30751b8",
   "metadata": {},
   "source": [
    "~~This problem is designed so terrible :/~~"
   ]
  }
 ],
 "metadata": {
  "kernelspec": {
   "display_name": "Python 3 (ipykernel)",
   "language": "python",
   "name": "python3"
  },
  "language_info": {
   "codemirror_mode": {
    "name": "ipython",
    "version": 3
   },
   "file_extension": ".py",
   "mimetype": "text/x-python",
   "name": "python",
   "nbconvert_exporter": "python",
   "pygments_lexer": "ipython3",
   "version": "3.9.7"
  }
 },
 "nbformat": 4,
 "nbformat_minor": 5
}
