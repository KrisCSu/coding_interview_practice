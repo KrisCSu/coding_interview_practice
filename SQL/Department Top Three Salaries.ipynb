{
 "cells": [
  {
   "cell_type": "markdown",
   "metadata": {},
   "source": [
    "# Department Top Three Salaries"
   ]
  },
  {
   "cell_type": "markdown",
   "metadata": {},
   "source": [
    "## Problem"
   ]
  },
  {
   "cell_type": "markdown",
   "metadata": {},
   "source": [
    "The **Employee** table holds all employees. Every employee has an Id, and there is also a column for the department Id."
   ]
  },
  {
   "cell_type": "markdown",
   "metadata": {},
   "source": [
    "| Id | Name  | Salary | DepartmentId |\n",
    "|----|-------|--------|--------------|\n",
    "| 1  | Joe   | 85000  | 1            |\n",
    "| 2  | Henry | 80000  | 2            |\n",
    "| 3  | Sam   | 60000  | 2            |\n",
    "| 4  | Max   | 90000  | 1            |\n",
    "| 5  | Janet | 69000  | 1            |\n",
    "| 6  | Randy | 85000  | 1            |\n",
    "| 7  | Will  | 70000  | 1            |"
   ]
  },
  {
   "cell_type": "markdown",
   "metadata": {},
   "source": [
    "The **Department** table holds all departments of the company.\n",
    "\n",
    "| Id | Name     |\n",
    "|----|----------|\n",
    "| 1  | IT       |\n",
    "| 2  | Sales    |\n",
    "\n",
    "Write a SQL query to find employees who earn the top three salaries in each of the department. For the above tables, your SQL query should return the following rows (order of rows does not matter).\n",
    "\n",
    "| Department | Employee | Salary |\n",
    "|------------|----------|--------|\n",
    "| IT         | Max      | 90000  |\n",
    "| IT         | Randy    | 85000  |\n",
    "| IT         | Joe      | 85000  |\n",
    "| IT         | Will     | 70000  |\n",
    "| Sales      | Henry    | 80000  |\n",
    "| Sales      | Sam      | 60000  |\n",
    "\n",
    "### Explanation:\n",
    "\n",
    "In IT department, Max earns the highest salary, both Randy and Joe earn the second highest salary, and Will earns the third highest salary. There are only two employees in the Sales department, Henry earns the highest salary while Sam earns the second highest salary."
   ]
  },
  {
   "cell_type": "markdown",
   "metadata": {},
   "source": [
    "## Solution\n",
    "\n",
    "```sql\n",
    "SELECT d.Name AS Department,\n",
    "        e.Name AS Employee, \n",
    "        e.Salary AS Salary\n",
    "FROM Employee e\n",
    "JOIN Department d ON e.DepartmentId = d.Id\n",
    "WHERE(\n",
    "    SELECT COUNT(DISTINCT e2.salary)\n",
    "    FROM Employee e2\n",
    "    WHERE e2.salary > e.salary\n",
    "    AND e2.DepartmentId = e.DepartmentId) < 3;\n",
    "```"
   ]
  }
 ],
 "metadata": {
  "kernelspec": {
   "display_name": "Python 3",
   "language": "python",
   "name": "python3"
  },
  "language_info": {
   "codemirror_mode": {
    "name": "ipython",
    "version": 3
   },
   "file_extension": ".py",
   "mimetype": "text/x-python",
   "name": "python",
   "nbconvert_exporter": "python",
   "pygments_lexer": "ipython3",
   "version": "3.8.0"
  }
 },
 "nbformat": 4,
 "nbformat_minor": 4
}
