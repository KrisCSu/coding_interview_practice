{
 "cells": [
  {
   "cell_type": "markdown",
   "metadata": {},
   "source": [
    "Jupyter is a cool notebook to show live code, especialy for python code. You may want to test your code if you are a careful coder, or an enthusiastic Test-Driven developer. This short notebook will show you a few different ways to run Python testing in Jupyter notebook, but we will not talk about the advantages and disadvantages of them."
   ]
  },
  {
   "cell_type": "markdown",
   "metadata": {},
   "source": [
    "There are many ways to test python code, you can either use assert statement or some frameworks, such as pytest, unittest, or nose to do so. We will not show pytest in this notebook since it requires extra plugins. "
   ]
  },
  {
   "cell_type": "markdown",
   "metadata": {},
   "source": [
    "Let's start with a simple Python function:"
   ]
  },
  {
   "cell_type": "code",
   "execution_count": null,
   "metadata": {},
   "outputs": [],
   "source": [
    "def add_one(x):\n",
    "    return x+1"
   ]
  },
  {
   "cell_type": "markdown",
   "metadata": {},
   "source": [
    "## 1. Use assert statement"
   ]
  },
  {
   "cell_type": "code",
   "execution_count": null,
   "metadata": {},
   "outputs": [],
   "source": [
    "assert add_one(1) == 2, 'should be 2'\n",
    "assert add_one(2) == 3, 'should be 3'\n",
    "print('All tests passed')"
   ]
  },
  {
   "cell_type": "markdown",
   "metadata": {},
   "source": [
    "---\n",
    "### A failure case"
   ]
  },
  {
   "cell_type": "code",
   "execution_count": null,
   "metadata": {},
   "outputs": [],
   "source": [
    "#Assertion Error will raise if it fails\n",
    "assert add_one(1) == 42, 'should be 2'\n",
    "print('All tests passed')"
   ]
  },
  {
   "cell_type": "markdown",
   "metadata": {},
   "source": [
    "## 2. Unittest"
   ]
  },
  {
   "cell_type": "code",
   "execution_count": null,
   "metadata": {},
   "outputs": [],
   "source": [
    "import unittest\n",
    "\n",
    "class TestAddOne(unittest.TestCase):\n",
    "    def test_one(self):\n",
    "        self.assertEqual(add_one(1),2)\n",
    "        self.assertEqual(add_one(2),3)\n",
    "    def test_two(self):\n",
    "        self.assertNotEqual(add_one(1),3)\n",
    "\n",
    "'''\n",
    "Configuration is a little tricky for unittest, it would raise errors\n",
    "or shut down the kernel accidently if it is not configured properlly\n",
    "'''\n",
    "if __name__ == '__main__':\n",
    "    unittest.main(argv=['first-arg-is-ignored'], exit=False)"
   ]
  },
  {
   "cell_type": "markdown",
   "metadata": {},
   "source": [
    "---\n",
    "### A case of failure"
   ]
  },
  {
   "cell_type": "code",
   "execution_count": null,
   "metadata": {},
   "outputs": [],
   "source": [
    "class TestAddOne(unittest.TestCase):\n",
    "    def test_one(self):\n",
    "        self.assertEqual(add_one(1),233)\n",
    "        \n",
    "if __name__ == '__main__':\n",
    "    unittest.main(argv=['first-arg-is-ignored'], exit=False)"
   ]
  },
  {
   "cell_type": "markdown",
   "metadata": {},
   "source": [
    "## 3. Nose"
   ]
  },
  {
   "cell_type": "code",
   "execution_count": null,
   "metadata": {},
   "outputs": [],
   "source": [
    "# Install nose if you do not have it\n",
    "%pip install nose"
   ]
  },
  {
   "cell_type": "code",
   "execution_count": null,
   "metadata": {},
   "outputs": [],
   "source": [
    "from nose.tools import assert_equal\n",
    "\n",
    "\n",
    "class TestExample(object):\n",
    "    def test_one(self, function): #name the function understandable\n",
    "        assert_equal(function(1), 2)\n",
    "        assert_equal(function(2), 3)\n",
    "        print('All Cases Passed')\n",
    "        \n",
    "test = TestExample()\n",
    "test.test_one(add_one)"
   ]
  },
  {
   "cell_type": "markdown",
   "metadata": {},
   "source": [
    "------\n",
    "### Example of fail case"
   ]
  },
  {
   "cell_type": "code",
   "execution_count": null,
   "metadata": {},
   "outputs": [],
   "source": [
    "class TestExample2(object):\n",
    "    def test_one(self, function):\n",
    "        assert_equal(function(1), 13)\n",
    "        print('All Cases Passed')\n",
    "        \n",
    "test2 = TestExample2()\n",
    "test2.test_one(add_one)"
   ]
  },
  {
   "cell_type": "markdown",
   "metadata": {},
   "source": [
    "---\n",
    "That's all"
   ]
  }
 ],
 "metadata": {
  "kernelspec": {
   "display_name": "Python 3",
   "language": "python",
   "name": "python3"
  },
  "language_info": {
   "codemirror_mode": {
    "name": "ipython",
    "version": 3
   },
   "file_extension": ".py",
   "mimetype": "text/x-python",
   "name": "python",
   "nbconvert_exporter": "python",
   "pygments_lexer": "ipython3",
   "version": "3.8.0"
  }
 },
 "nbformat": 4,
 "nbformat_minor": 4
}
